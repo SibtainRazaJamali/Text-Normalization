{
 "cells": [
  {
   "cell_type": "markdown",
   "metadata": {},
   "source": [
    "# Final Year Project\n",
    "#### -------------------------------------------------------------------------------------------------------------------------------------------------------------------------------------------\n",
    "# WatchYourLanguage\n",
    "#### -------------------------------------------------------------------------------------------------------------------------------------------------------------------------------------------\n",
    "# Intelligent Text Reader with Normalized Text \n",
    "#### -------------------------------------------------------------------------------------------------------------------------------------------------------------------------------------------\n",
    "### Group Members : \n",
    "##### Sibtain Raza Jamali\n",
    "##### Zeeshan Ali\n",
    "#### -------------------------------------------------------------------------------------------------------------------------------------------------------------------------------------------\n",
    "### SuperVisor:\n",
    "### Mr.Muhammad H Mustafa"
   ]
  },
  {
   "cell_type": "markdown",
   "metadata": {},
   "source": [
    "#### This is an intelligent text-to-speech synthesizer. The first goal to achieve is  \"Spoken Text\"."
   ]
  },
  {
   "cell_type": "markdown",
   "metadata": {},
   "source": [
    "# Iteration 1 "
   ]
  },
  {
   "cell_type": "code",
   "execution_count": 1,
   "metadata": {
    "collapsed": true
   },
   "outputs": [],
   "source": [
    "# lets start by importing some basic python libraries for analysis of data.\n",
    "import numpy as np\n",
    "import pandas as pd\n",
    "import seaborn as sns\n",
    "import matplotlib.pyplot as plt\n",
    "%matplotlib inline\n",
    "import warnings\n",
    "warnings.filterwarnings(\"ignore\")"
   ]
  },
  {
   "cell_type": "markdown",
   "metadata": {},
   "source": [
    "# Data Cleaning,Visualization ,Statistics\n"
   ]
  },
  {
   "cell_type": "code",
   "execution_count": 2,
   "metadata": {
    "collapsed": true
   },
   "outputs": [],
   "source": [
    "\"\"\"\n",
    "This dataset is well structured ,lets import all the files\n",
    "\"\"\"\n",
    "training_set=pd.read_csv('en_train.csv')\n",
    "#training_set.head(15)"
   ]
  },
  {
   "cell_type": "markdown",
   "metadata": {},
   "source": [
    "Lets find some basic statistics of training set"
   ]
  },
  {
   "cell_type": "code",
   "execution_count": 4,
   "metadata": {},
   "outputs": [
    {
     "data": {
      "text/html": [
       "<div>\n",
       "<style>\n",
       "    .dataframe thead tr:only-child th {\n",
       "        text-align: right;\n",
       "    }\n",
       "\n",
       "    .dataframe thead th {\n",
       "        text-align: left;\n",
       "    }\n",
       "\n",
       "    .dataframe tbody tr th {\n",
       "        vertical-align: top;\n",
       "    }\n",
       "</style>\n",
       "<table border=\"1\" class=\"dataframe\">\n",
       "  <thead>\n",
       "    <tr style=\"text-align: right;\">\n",
       "      <th></th>\n",
       "      <th>sentence_id</th>\n",
       "      <th>token_id</th>\n",
       "    </tr>\n",
       "  </thead>\n",
       "  <tbody>\n",
       "    <tr>\n",
       "      <th>count</th>\n",
       "      <td>9.918441e+06</td>\n",
       "      <td>9.918441e+06</td>\n",
       "    </tr>\n",
       "    <tr>\n",
       "      <th>mean</th>\n",
       "      <td>3.778565e+05</td>\n",
       "      <td>7.519584e+00</td>\n",
       "    </tr>\n",
       "    <tr>\n",
       "      <th>std</th>\n",
       "      <td>2.151371e+05</td>\n",
       "      <td>6.117934e+00</td>\n",
       "    </tr>\n",
       "    <tr>\n",
       "      <th>min</th>\n",
       "      <td>0.000000e+00</td>\n",
       "      <td>0.000000e+00</td>\n",
       "    </tr>\n",
       "    <tr>\n",
       "      <th>25%</th>\n",
       "      <td>1.925260e+05</td>\n",
       "      <td>3.000000e+00</td>\n",
       "    </tr>\n",
       "    <tr>\n",
       "      <th>50%</th>\n",
       "      <td>3.792590e+05</td>\n",
       "      <td>6.000000e+00</td>\n",
       "    </tr>\n",
       "    <tr>\n",
       "      <th>75%</th>\n",
       "      <td>5.641890e+05</td>\n",
       "      <td>1.100000e+01</td>\n",
       "    </tr>\n",
       "    <tr>\n",
       "      <th>max</th>\n",
       "      <td>7.480650e+05</td>\n",
       "      <td>2.550000e+02</td>\n",
       "    </tr>\n",
       "  </tbody>\n",
       "</table>\n",
       "</div>"
      ],
      "text/plain": [
       "        sentence_id      token_id\n",
       "count  9.918441e+06  9.918441e+06\n",
       "mean   3.778565e+05  7.519584e+00\n",
       "std    2.151371e+05  6.117934e+00\n",
       "min    0.000000e+00  0.000000e+00\n",
       "25%    1.925260e+05  3.000000e+00\n",
       "50%    3.792590e+05  6.000000e+00\n",
       "75%    5.641890e+05  1.100000e+01\n",
       "max    7.480650e+05  2.550000e+02"
      ]
     },
     "execution_count": 4,
     "metadata": {},
     "output_type": "execute_result"
    }
   ],
   "source": [
    "training_set.describe()"
   ]
  },
  {
   "cell_type": "markdown",
   "metadata": {},
   "source": [
    "Removing the Null values if any "
   ]
  },
  {
   "cell_type": "code",
   "execution_count": 3,
   "metadata": {},
   "outputs": [
    {
     "data": {
      "text/plain": [
       "51"
      ]
     },
     "execution_count": 3,
     "metadata": {},
     "output_type": "execute_result"
    }
   ],
   "source": [
    "training_set['before'].isnull().sum()"
   ]
  },
  {
   "cell_type": "markdown",
   "metadata": {},
   "source": [
    "Oops! it contains 51 null values , lets see whether we need to drop those values or fix them"
   ]
  },
  {
   "cell_type": "code",
   "execution_count": 3,
   "metadata": {},
   "outputs": [
    {
     "data": {
      "text/html": [
       "<div>\n",
       "<style>\n",
       "    .dataframe thead tr:only-child th {\n",
       "        text-align: right;\n",
       "    }\n",
       "\n",
       "    .dataframe thead th {\n",
       "        text-align: left;\n",
       "    }\n",
       "\n",
       "    .dataframe tbody tr th {\n",
       "        vertical-align: top;\n",
       "    }\n",
       "</style>\n",
       "<table border=\"1\" class=\"dataframe\">\n",
       "  <thead>\n",
       "    <tr style=\"text-align: right;\">\n",
       "      <th></th>\n",
       "      <th>sentence_id</th>\n",
       "      <th>token_id</th>\n",
       "      <th>class</th>\n",
       "      <th>before</th>\n",
       "      <th>after</th>\n",
       "    </tr>\n",
       "  </thead>\n",
       "  <tbody>\n",
       "    <tr>\n",
       "      <th>616107</th>\n",
       "      <td>49226</td>\n",
       "      <td>17</td>\n",
       "      <td>LETTERS</td>\n",
       "      <td>NaN</td>\n",
       "      <td>n a</td>\n",
       "    </tr>\n",
       "    <tr>\n",
       "      <th>684691</th>\n",
       "      <td>54634</td>\n",
       "      <td>1</td>\n",
       "      <td>PLAIN</td>\n",
       "      <td>NaN</td>\n",
       "      <td>NaN</td>\n",
       "    </tr>\n",
       "    <tr>\n",
       "      <th>965529</th>\n",
       "      <td>76612</td>\n",
       "      <td>7</td>\n",
       "      <td>PLAIN</td>\n",
       "      <td>NaN</td>\n",
       "      <td>NaN</td>\n",
       "    </tr>\n",
       "    <tr>\n",
       "      <th>1011291</th>\n",
       "      <td>80126</td>\n",
       "      <td>5</td>\n",
       "      <td>LETTERS</td>\n",
       "      <td>NaN</td>\n",
       "      <td>n a</td>\n",
       "    </tr>\n",
       "    <tr>\n",
       "      <th>1347924</th>\n",
       "      <td>106058</td>\n",
       "      <td>6</td>\n",
       "      <td>PLAIN</td>\n",
       "      <td>NaN</td>\n",
       "      <td>NaN</td>\n",
       "    </tr>\n",
       "    <tr>\n",
       "      <th>1909700</th>\n",
       "      <td>149031</td>\n",
       "      <td>16</td>\n",
       "      <td>PLAIN</td>\n",
       "      <td>NaN</td>\n",
       "      <td>NaN</td>\n",
       "    </tr>\n",
       "    <tr>\n",
       "      <th>1999090</th>\n",
       "      <td>155865</td>\n",
       "      <td>4</td>\n",
       "      <td>PLAIN</td>\n",
       "      <td>NaN</td>\n",
       "      <td>NaN</td>\n",
       "    </tr>\n",
       "    <tr>\n",
       "      <th>2465002</th>\n",
       "      <td>191397</td>\n",
       "      <td>1</td>\n",
       "      <td>PLAIN</td>\n",
       "      <td>NaN</td>\n",
       "      <td>NaN</td>\n",
       "    </tr>\n",
       "    <tr>\n",
       "      <th>2765431</th>\n",
       "      <td>214094</td>\n",
       "      <td>1</td>\n",
       "      <td>PLAIN</td>\n",
       "      <td>NaN</td>\n",
       "      <td>NaN</td>\n",
       "    </tr>\n",
       "    <tr>\n",
       "      <th>3049822</th>\n",
       "      <td>235589</td>\n",
       "      <td>6</td>\n",
       "      <td>PLAIN</td>\n",
       "      <td>NaN</td>\n",
       "      <td>NaN</td>\n",
       "    </tr>\n",
       "  </tbody>\n",
       "</table>\n",
       "</div>"
      ],
      "text/plain": [
       "         sentence_id  token_id    class before after\n",
       "616107         49226        17  LETTERS    NaN   n a\n",
       "684691         54634         1    PLAIN    NaN   NaN\n",
       "965529         76612         7    PLAIN    NaN   NaN\n",
       "1011291        80126         5  LETTERS    NaN   n a\n",
       "1347924       106058         6    PLAIN    NaN   NaN\n",
       "1909700       149031        16    PLAIN    NaN   NaN\n",
       "1999090       155865         4    PLAIN    NaN   NaN\n",
       "2465002       191397         1    PLAIN    NaN   NaN\n",
       "2765431       214094         1    PLAIN    NaN   NaN\n",
       "3049822       235589         6    PLAIN    NaN   NaN"
      ]
     },
     "execution_count": 3,
     "metadata": {},
     "output_type": "execute_result"
    }
   ],
   "source": [
    "(training_set[training_set['before'].isnull()]).head(10)"
   ]
  },
  {
   "cell_type": "markdown",
   "metadata": {},
   "source": [
    "Lets examine a sentence with Nan Values "
   ]
  },
  {
   "cell_type": "code",
   "execution_count": 3,
   "metadata": {},
   "outputs": [],
   "source": [
    "#lets see a sentence having null tokens\n",
    "#training_set[training_set['sentence_id']==149031]"
   ]
  },
  {
   "cell_type": "markdown",
   "metadata": {},
   "source": [
    "### If we remove these values , from our data set , the information from columns of 'token id' and 'Sentence Id' will become redundant and can cause our model to behave abnormal, so it will be better to replace the Nan values with a space for now."
   ]
  },
  {
   "cell_type": "code",
   "execution_count": 3,
   "metadata": {
    "collapsed": true
   },
   "outputs": [],
   "source": [
    "training_set.loc[training_set['before'].isnull(),['before','after']]=' '\n",
    "#training_set[training_set['sentence_id']==149031]"
   ]
  },
  {
   "cell_type": "code",
   "execution_count": 5,
   "metadata": {},
   "outputs": [
    {
     "data": {
      "text/plain": [
       "0"
      ]
     },
     "execution_count": 5,
     "metadata": {},
     "output_type": "execute_result"
    }
   ],
   "source": [
    "training_set['before'].isnull().sum()\n",
    "#training_set[training_set['sentence_id']==149031]"
   ]
  },
  {
   "cell_type": "markdown",
   "metadata": {},
   "source": [
    "Now we have replaced Nan values with a space"
   ]
  },
  {
   "cell_type": "markdown",
   "metadata": {},
   "source": [
    "Lets deep dive into data"
   ]
  },
  {
   "cell_type": "markdown",
   "metadata": {},
   "source": [
    "# Training Data\n",
    "### Number of training Examples = 9918441\n",
    "### Number of Column = 5"
   ]
  },
  {
   "cell_type": "code",
   "execution_count": 4,
   "metadata": {},
   "outputs": [
    {
     "data": {
      "text/plain": [
       "16"
      ]
     },
     "execution_count": 4,
     "metadata": {},
     "output_type": "execute_result"
    }
   ],
   "source": [
    "len(training_set['class'].unique())"
   ]
  },
  {
   "cell_type": "markdown",
   "metadata": {},
   "source": [
    "There are 16 distinct classes of words"
   ]
  },
  {
   "cell_type": "code",
   "execution_count": 5,
   "metadata": {},
   "outputs": [
    {
     "data": {
      "text/plain": [
       "PLAIN         7353693\n",
       "PUNCT         1880507\n",
       "DATE           258348\n",
       "LETTERS        152795\n",
       "CARDINAL       133744\n",
       "VERBATIM        78108\n",
       "MEASURE         14783\n",
       "ORDINAL         12703\n",
       "DECIMAL          9821\n",
       "MONEY            6128\n",
       "DIGIT            5442\n",
       "ELECTRONIC       5162\n",
       "TELEPHONE        4024\n",
       "TIME             1465\n",
       "FRACTION         1196\n",
       "ADDRESS           522\n",
       "Name: class, dtype: int64"
      ]
     },
     "execution_count": 5,
     "metadata": {},
     "output_type": "execute_result"
    }
   ],
   "source": [
    "#lets print these classes \n",
    "training_set['class'].value_counts()"
   ]
  },
  {
   "cell_type": "markdown",
   "metadata": {},
   "source": []
  },
  {
   "cell_type": "code",
   "execution_count": 12,
   "metadata": {},
   "outputs": [
    {
     "data": {
      "image/png": "[encoded data removed]",
      "text/plain": [
       "<matplotlib.figure.Figure at 0x7fa5195caf10>"
      ]
     },
     "metadata": {},
     "output_type": "display_data"
    }
   ],
   "source": [
    "#sns.set_palette(\"hls\")\n",
    "#fig_size=(11,8)\n",
    "#fig,axe=plt.subplots(figsize=fig_size)\n",
    "sns.set_style(\"darkgrid\")\n",
    "figs=sns.countplot(training_set['class'],saturation=1)\n",
    "\n",
    "figs.set_xticklabels(training_set['class'].unique(),rotation=90)\n",
    "plt.show()"
   ]
  },
  {
   "cell_type": "code",
   "execution_count": 3,
   "metadata": {},
   "outputs": [
    {
     "data": {
      "image/png": "[encoded data removed]",
      "text/plain": [
       "<matplotlib.figure.Figure at 0x7efeeeb993d0>"
      ]
     },
     "metadata": {},
     "output_type": "display_data"
    }
   ],
   "source": [
    "f, axarray = plt.subplots(2, 1, figsize=(15, 10))\n",
    "hist = training_set.groupby('class', as_index=False).count()\n",
    "hist = hist[hist['class'] != 'PLAIN']\n",
    "g= sns.barplot(x = hist['class'], y = hist['before'], ax = axarray[0])\n",
    "for item in g.get_xticklabels():\n",
    "    item.set_rotation(45)\n",
    "\n",
    "hist = hist[hist['class'] != 'PUNCT']\n",
    "g = sns.barplot(x = hist['class'], y = hist['before'], ax = axarray[1])\n",
    "for item in g.get_xticklabels():\n",
    "    item.set_rotation(45)\n",
    "\n",
    "plt.show()"
   ]
  },
  {
   "cell_type": "markdown",
   "metadata": {},
   "source": [
    "We can see seaborn is missing many distributions, So lets try bar plot"
   ]
  },
  {
   "cell_type": "code",
   "execution_count": 13,
   "metadata": {},
   "outputs": [
    {
     "data": {
      "image/png": "[encoded data removed]",
      "text/plain": [
       "<matplotlib.figure.Figure at 0x7fa4d55559d0>"
      ]
     },
     "metadata": {},
     "output_type": "display_data"
    }
   ],
   "source": [
    "#taking log will normalize the values\n",
    "np.log(training_set['class'].value_counts()).plot(kind='bar')\n",
    "plt.show()"
   ]
  },
  {
   "cell_type": "markdown",
   "metadata": {},
   "source": [
    "Lets see what type of words these classes contains"
   ]
  },
  {
   "cell_type": "code",
   "execution_count": 14,
   "metadata": {},
   "outputs": [
    {
     "data": {
      "text/html": [
       "<div>\n",
       "<style>\n",
       "    .dataframe thead tr:only-child th {\n",
       "        text-align: right;\n",
       "    }\n",
       "\n",
       "    .dataframe thead th {\n",
       "        text-align: left;\n",
       "    }\n",
       "\n",
       "    .dataframe tbody tr th {\n",
       "        vertical-align: top;\n",
       "    }\n",
       "</style>\n",
       "<table border=\"1\" class=\"dataframe\">\n",
       "  <thead>\n",
       "    <tr style=\"text-align: right;\">\n",
       "      <th></th>\n",
       "      <th>sentence_id</th>\n",
       "      <th>token_id</th>\n",
       "      <th>class</th>\n",
       "      <th>before</th>\n",
       "      <th>after</th>\n",
       "    </tr>\n",
       "  </thead>\n",
       "  <tbody>\n",
       "    <tr>\n",
       "      <th>8840213</th>\n",
       "      <td>668154</td>\n",
       "      <td>7</td>\n",
       "      <td>PLAIN</td>\n",
       "      <td>p</td>\n",
       "      <td>p</td>\n",
       "    </tr>\n",
       "    <tr>\n",
       "      <th>4065263</th>\n",
       "      <td>312244</td>\n",
       "      <td>6</td>\n",
       "      <td>PLAIN</td>\n",
       "      <td>detection</td>\n",
       "      <td>detection</td>\n",
       "    </tr>\n",
       "    <tr>\n",
       "      <th>5005218</th>\n",
       "      <td>382698</td>\n",
       "      <td>3</td>\n",
       "      <td>PLAIN</td>\n",
       "      <td>sy</td>\n",
       "      <td>sy</td>\n",
       "    </tr>\n",
       "    <tr>\n",
       "      <th>1053919</th>\n",
       "      <td>83429</td>\n",
       "      <td>7</td>\n",
       "      <td>PLAIN</td>\n",
       "      <td>so</td>\n",
       "      <td>so</td>\n",
       "    </tr>\n",
       "    <tr>\n",
       "      <th>2633219</th>\n",
       "      <td>204114</td>\n",
       "      <td>16</td>\n",
       "      <td>PLAIN</td>\n",
       "      <td>have</td>\n",
       "      <td>have</td>\n",
       "    </tr>\n",
       "  </tbody>\n",
       "</table>\n",
       "</div>"
      ],
      "text/plain": [
       "         sentence_id  token_id  class     before      after\n",
       "8840213       668154         7  PLAIN          p          p\n",
       "4065263       312244         6  PLAIN  detection  detection\n",
       "5005218       382698         3  PLAIN         sy         sy\n",
       "1053919        83429         7  PLAIN         so         so\n",
       "2633219       204114        16  PLAIN       have       have"
      ]
     },
     "execution_count": 14,
     "metadata": {},
     "output_type": "execute_result"
    }
   ],
   "source": [
    "training_set[training_set['class']=='PLAIN'].sample(5)"
   ]
  },
  {
   "cell_type": "markdown",
   "metadata": {},
   "source": [
    "Plain text contains normal words that remains same even after normalization is performed"
   ]
  },
  {
   "cell_type": "code",
   "execution_count": 15,
   "metadata": {},
   "outputs": [
    {
     "data": {
      "text/html": [
       "<div>\n",
       "<style>\n",
       "    .dataframe thead tr:only-child th {\n",
       "        text-align: right;\n",
       "    }\n",
       "\n",
       "    .dataframe thead th {\n",
       "        text-align: left;\n",
       "    }\n",
       "\n",
       "    .dataframe tbody tr th {\n",
       "        vertical-align: top;\n",
       "    }\n",
       "</style>\n",
       "<table border=\"1\" class=\"dataframe\">\n",
       "  <thead>\n",
       "    <tr style=\"text-align: right;\">\n",
       "      <th></th>\n",
       "      <th>sentence_id</th>\n",
       "      <th>token_id</th>\n",
       "      <th>class</th>\n",
       "      <th>before</th>\n",
       "      <th>after</th>\n",
       "    </tr>\n",
       "  </thead>\n",
       "  <tbody>\n",
       "    <tr>\n",
       "      <th>6538592</th>\n",
       "      <td>497121</td>\n",
       "      <td>14</td>\n",
       "      <td>PUNCT</td>\n",
       "      <td>\"</td>\n",
       "      <td>\"</td>\n",
       "    </tr>\n",
       "    <tr>\n",
       "      <th>3985768</th>\n",
       "      <td>306213</td>\n",
       "      <td>9</td>\n",
       "      <td>PUNCT</td>\n",
       "      <td>.</td>\n",
       "      <td>.</td>\n",
       "    </tr>\n",
       "    <tr>\n",
       "      <th>9365579</th>\n",
       "      <td>706964</td>\n",
       "      <td>1</td>\n",
       "      <td>PUNCT</td>\n",
       "      <td>,</td>\n",
       "      <td>,</td>\n",
       "    </tr>\n",
       "    <tr>\n",
       "      <th>8385927</th>\n",
       "      <td>634733</td>\n",
       "      <td>1</td>\n",
       "      <td>PUNCT</td>\n",
       "      <td>,</td>\n",
       "      <td>,</td>\n",
       "    </tr>\n",
       "    <tr>\n",
       "      <th>508518</th>\n",
       "      <td>40770</td>\n",
       "      <td>7</td>\n",
       "      <td>PUNCT</td>\n",
       "      <td>\"</td>\n",
       "      <td>\"</td>\n",
       "    </tr>\n",
       "    <tr>\n",
       "      <th>7287575</th>\n",
       "      <td>552809</td>\n",
       "      <td>4</td>\n",
       "      <td>PUNCT</td>\n",
       "      <td>,</td>\n",
       "      <td>,</td>\n",
       "    </tr>\n",
       "    <tr>\n",
       "      <th>862915</th>\n",
       "      <td>68699</td>\n",
       "      <td>13</td>\n",
       "      <td>PUNCT</td>\n",
       "      <td>.</td>\n",
       "      <td>.</td>\n",
       "    </tr>\n",
       "    <tr>\n",
       "      <th>4772599</th>\n",
       "      <td>365333</td>\n",
       "      <td>14</td>\n",
       "      <td>PUNCT</td>\n",
       "      <td>.</td>\n",
       "      <td>.</td>\n",
       "    </tr>\n",
       "    <tr>\n",
       "      <th>1751804</th>\n",
       "      <td>136948</td>\n",
       "      <td>5</td>\n",
       "      <td>PUNCT</td>\n",
       "      <td>\"</td>\n",
       "      <td>\"</td>\n",
       "    </tr>\n",
       "    <tr>\n",
       "      <th>8705595</th>\n",
       "      <td>658326</td>\n",
       "      <td>9</td>\n",
       "      <td>PUNCT</td>\n",
       "      <td>,</td>\n",
       "      <td>,</td>\n",
       "    </tr>\n",
       "  </tbody>\n",
       "</table>\n",
       "</div>"
      ],
      "text/plain": [
       "         sentence_id  token_id  class before after\n",
       "6538592       497121        14  PUNCT      \"     \"\n",
       "3985768       306213         9  PUNCT      .     .\n",
       "9365579       706964         1  PUNCT      ,     ,\n",
       "8385927       634733         1  PUNCT      ,     ,\n",
       "508518         40770         7  PUNCT      \"     \"\n",
       "7287575       552809         4  PUNCT      ,     ,\n",
       "862915         68699        13  PUNCT      .     .\n",
       "4772599       365333        14  PUNCT      .     .\n",
       "1751804       136948         5  PUNCT      \"     \"\n",
       "8705595       658326         9  PUNCT      ,     ,"
      ]
     },
     "execution_count": 15,
     "metadata": {},
     "output_type": "execute_result"
    }
   ],
   "source": [
    "training_set[training_set['class']=='PUNCT'].sample(10)"
   ]
  },
  {
   "cell_type": "markdown",
   "metadata": {},
   "source": [
    "Are both PLAIN and PUNCT class behaving the same? \n",
    "Why not have a test?\n",
    "We will see how many punct class words have changed in after column"
   ]
  },
  {
   "cell_type": "code",
   "execution_count": 4,
   "metadata": {
    "collapsed": true
   },
   "outputs": [],
   "source": [
    "training_set['change']=training_set['before']!=training_set['after']\n"
   ]
  },
  {
   "cell_type": "code",
   "execution_count": 36,
   "metadata": {
    "collapsed": true
   },
   "outputs": [],
   "source": [
    "total=training_set['class'].groupby(training_set['class']).count()"
   ]
  },
  {
   "cell_type": "markdown",
   "metadata": {},
   "source": [
    "Here we can conclude that PUNCT class doesn't need to be normalized"
   ]
  },
  {
   "cell_type": "markdown",
   "metadata": {},
   "source": [
    "We have a better idea lets examine which class changes with high frequency for this purpose we will add each change value by groupby clause "
   ]
  },
  {
   "cell_type": "code",
   "execution_count": 5,
   "metadata": {
    "collapsed": true
   },
   "outputs": [],
   "source": [
    "change_per_class=training_set['change'].groupby(training_set['class'])"
   ]
  },
  {
   "cell_type": "code",
   "execution_count": 6,
   "metadata": {},
   "outputs": [
    {
     "data": {
      "text/plain": [
       "<matplotlib.axes._subplots.AxesSubplot at 0x7f8a6b9f2710>"
      ]
     },
     "execution_count": 6,
     "metadata": {},
     "output_type": "execute_result"
    },
    {
     "data": {
      "image/png": "[encoded data removed]",
      "text/plain": [
       "<matplotlib.figure.Figure at 0x7f8a5f1f39d0>"
      ]
     },
     "metadata": {},
     "output_type": "display_data"
    }
   ],
   "source": [
    "frequency_of_change=change_per_class.sum()\n",
    "frequency_of_change.plot(kind='bar')\n"
   ]
  },
  {
   "cell_type": "markdown",
   "metadata": {
    "collapsed": true
   },
   "source": [
    "OMG! Our previous observation was wrong about data , We can see that PLAIN class has changed its values for 36472 times\n",
    "Are you Interseted To have a look at those examples? Yes"
   ]
  },
  {
   "cell_type": "markdown",
   "metadata": {},
   "source": [
    "# Dictionary for Plain Class\n",
    "## To keep the words which are being transformed"
   ]
  },
  {
   "cell_type": "code",
   "execution_count": 5,
   "metadata": {
    "collapsed": true
   },
   "outputs": [],
   "source": [
    "plain_words=training_set[(training_set['class']=='PLAIN') & (training_set['change']==True)]"
   ]
  },
  {
   "cell_type": "code",
   "execution_count": 6,
   "metadata": {
    "collapsed": true
   },
   "outputs": [],
   "source": [
    "plain_words=plain_words.drop(['sentence_id','token_id','class','change'],axis=1)"
   ]
  },
  {
   "cell_type": "code",
   "execution_count": 7,
   "metadata": {
    "collapsed": true
   },
   "outputs": [],
   "source": [
    "from collections import defaultdict, Counter\n",
    "d = defaultdict(list)\n",
    "train_list = [(plain_words['before'].iloc[i],plain_words['after'].iloc[i]) for i in range(plain_words.shape[0])]\n",
    "for k,v in train_list:\n",
    "    d[k].append(v)\n",
    "counter_dict = {}\n",
    "for key in d:\n",
    "    c = Counter(d[key]).most_common(1)[0][0]\n",
    "    counter_dict[key] = c"
   ]
  },
  {
   "cell_type": "code",
   "execution_count": 8,
   "metadata": {
    "collapsed": true
   },
   "outputs": [],
   "source": [
    "plain_words=counter_dict.copy()\n",
    "del counter_dict\n",
    "del train_list\n",
    "del d"
   ]
  },
  {
   "cell_type": "markdown",
   "metadata": {},
   "source": [
    "### We have a dictionary for plain class"
   ]
  },
  {
   "cell_type": "code",
   "execution_count": 86,
   "metadata": {},
   "outputs": [
    {
     "data": {
      "text/html": [
       "<div>\n",
       "<style>\n",
       "    .dataframe thead tr:only-child th {\n",
       "        text-align: right;\n",
       "    }\n",
       "\n",
       "    .dataframe thead th {\n",
       "        text-align: left;\n",
       "    }\n",
       "\n",
       "    .dataframe tbody tr th {\n",
       "        vertical-align: top;\n",
       "    }\n",
       "</style>\n",
       "<table border=\"1\" class=\"dataframe\">\n",
       "  <thead>\n",
       "    <tr style=\"text-align: right;\">\n",
       "      <th></th>\n",
       "      <th>sentence_id</th>\n",
       "      <th>token_id</th>\n",
       "      <th>class</th>\n",
       "      <th>before</th>\n",
       "      <th>after</th>\n",
       "      <th>change</th>\n",
       "    </tr>\n",
       "  </thead>\n",
       "  <tbody>\n",
       "    <tr>\n",
       "      <th>5444866</th>\n",
       "      <td>415630</td>\n",
       "      <td>11</td>\n",
       "      <td>PLAIN</td>\n",
       "      <td>-</td>\n",
       "      <td>to</td>\n",
       "      <td>True</td>\n",
       "    </tr>\n",
       "    <tr>\n",
       "      <th>5430896</th>\n",
       "      <td>414580</td>\n",
       "      <td>5</td>\n",
       "      <td>PLAIN</td>\n",
       "      <td>vs</td>\n",
       "      <td>versus</td>\n",
       "      <td>True</td>\n",
       "    </tr>\n",
       "    <tr>\n",
       "      <th>335835</th>\n",
       "      <td>26986</td>\n",
       "      <td>6</td>\n",
       "      <td>PLAIN</td>\n",
       "      <td>-</td>\n",
       "      <td>to</td>\n",
       "      <td>True</td>\n",
       "    </tr>\n",
       "    <tr>\n",
       "      <th>3965090</th>\n",
       "      <td>304629</td>\n",
       "      <td>1</td>\n",
       "      <td>PLAIN</td>\n",
       "      <td>-</td>\n",
       "      <td>to</td>\n",
       "      <td>True</td>\n",
       "    </tr>\n",
       "    <tr>\n",
       "      <th>4448084</th>\n",
       "      <td>340954</td>\n",
       "      <td>20</td>\n",
       "      <td>PLAIN</td>\n",
       "      <td>-</td>\n",
       "      <td>to</td>\n",
       "      <td>True</td>\n",
       "    </tr>\n",
       "  </tbody>\n",
       "</table>\n",
       "</div>"
      ],
      "text/plain": [
       "         sentence_id  token_id  class before   after  change\n",
       "5444866       415630        11  PLAIN      -      to    True\n",
       "5430896       414580         5  PLAIN     vs  versus    True\n",
       "335835         26986         6  PLAIN      -      to    True\n",
       "3965090       304629         1  PLAIN      -      to    True\n",
       "4448084       340954        20  PLAIN      -      to    True"
      ]
     },
     "execution_count": 86,
     "metadata": {},
     "output_type": "execute_result"
    }
   ],
   "source": [
    "training_set[(training_set['class']=='PLAIN') & (training_set['change']==True)].sample(5)"
   ]
  },
  {
   "cell_type": "code",
   "execution_count": 26,
   "metadata": {},
   "outputs": [
    {
     "data": {
      "text/html": [
       "<div>\n",
       "<style>\n",
       "    .dataframe thead tr:only-child th {\n",
       "        text-align: right;\n",
       "    }\n",
       "\n",
       "    .dataframe thead th {\n",
       "        text-align: left;\n",
       "    }\n",
       "\n",
       "    .dataframe tbody tr th {\n",
       "        vertical-align: top;\n",
       "    }\n",
       "</style>\n",
       "<table border=\"1\" class=\"dataframe\">\n",
       "  <thead>\n",
       "    <tr style=\"text-align: right;\">\n",
       "      <th></th>\n",
       "      <th>sentence_id</th>\n",
       "      <th>token_id</th>\n",
       "      <th>class</th>\n",
       "      <th>before</th>\n",
       "      <th>after</th>\n",
       "      <th>change</th>\n",
       "    </tr>\n",
       "  </thead>\n",
       "  <tbody>\n",
       "    <tr>\n",
       "      <th>3831142</th>\n",
       "      <td>294592</td>\n",
       "      <td>3</td>\n",
       "      <td>LETTERS</td>\n",
       "      <td>USA</td>\n",
       "      <td>u s a</td>\n",
       "      <td>True</td>\n",
       "    </tr>\n",
       "    <tr>\n",
       "      <th>301420</th>\n",
       "      <td>24255</td>\n",
       "      <td>3</td>\n",
       "      <td>LETTERS</td>\n",
       "      <td>N.</td>\n",
       "      <td>n</td>\n",
       "      <td>True</td>\n",
       "    </tr>\n",
       "    <tr>\n",
       "      <th>5294704</th>\n",
       "      <td>404425</td>\n",
       "      <td>14</td>\n",
       "      <td>LETTERS</td>\n",
       "      <td>K.</td>\n",
       "      <td>k</td>\n",
       "      <td>True</td>\n",
       "    </tr>\n",
       "    <tr>\n",
       "      <th>1088189</th>\n",
       "      <td>86061</td>\n",
       "      <td>6</td>\n",
       "      <td>LETTERS</td>\n",
       "      <td>i.e.</td>\n",
       "      <td>i e</td>\n",
       "      <td>True</td>\n",
       "    </tr>\n",
       "    <tr>\n",
       "      <th>7330668</th>\n",
       "      <td>556069</td>\n",
       "      <td>7</td>\n",
       "      <td>LETTERS</td>\n",
       "      <td>PDF</td>\n",
       "      <td>p d f</td>\n",
       "      <td>True</td>\n",
       "    </tr>\n",
       "  </tbody>\n",
       "</table>\n",
       "</div>"
      ],
      "text/plain": [
       "         sentence_id  token_id    class before  after  change\n",
       "3831142       294592         3  LETTERS    USA  u s a    True\n",
       "301420         24255         3  LETTERS     N.      n    True\n",
       "5294704       404425        14  LETTERS     K.      k    True\n",
       "1088189        86061         6  LETTERS   i.e.    i e    True\n",
       "7330668       556069         7  LETTERS    PDF  p d f    True"
      ]
     },
     "execution_count": 26,
     "metadata": {},
     "output_type": "execute_result"
    }
   ],
   "source": [
    "training_set[(training_set['class']=='LETTERS') & (training_set['change']==True)].sample(5)"
   ]
  },
  {
   "cell_type": "code",
   "execution_count": 27,
   "metadata": {},
   "outputs": [
    {
     "data": {
      "text/html": [
       "<div>\n",
       "<style>\n",
       "    .dataframe thead tr:only-child th {\n",
       "        text-align: right;\n",
       "    }\n",
       "\n",
       "    .dataframe thead th {\n",
       "        text-align: left;\n",
       "    }\n",
       "\n",
       "    .dataframe tbody tr th {\n",
       "        vertical-align: top;\n",
       "    }\n",
       "</style>\n",
       "<table border=\"1\" class=\"dataframe\">\n",
       "  <thead>\n",
       "    <tr style=\"text-align: right;\">\n",
       "      <th></th>\n",
       "      <th>sentence_id</th>\n",
       "      <th>token_id</th>\n",
       "      <th>class</th>\n",
       "      <th>before</th>\n",
       "      <th>after</th>\n",
       "      <th>change</th>\n",
       "    </tr>\n",
       "  </thead>\n",
       "  <tbody>\n",
       "    <tr>\n",
       "      <th>839190</th>\n",
       "      <td>66858</td>\n",
       "      <td>6</td>\n",
       "      <td>CARDINAL</td>\n",
       "      <td>II</td>\n",
       "      <td>two</td>\n",
       "      <td>True</td>\n",
       "    </tr>\n",
       "    <tr>\n",
       "      <th>5820730</th>\n",
       "      <td>443751</td>\n",
       "      <td>16</td>\n",
       "      <td>CARDINAL</td>\n",
       "      <td>75</td>\n",
       "      <td>seventy five</td>\n",
       "      <td>True</td>\n",
       "    </tr>\n",
       "    <tr>\n",
       "      <th>7234891</th>\n",
       "      <td>548875</td>\n",
       "      <td>9</td>\n",
       "      <td>CARDINAL</td>\n",
       "      <td>2551</td>\n",
       "      <td>two thousand five hundred fifty one</td>\n",
       "      <td>True</td>\n",
       "    </tr>\n",
       "    <tr>\n",
       "      <th>2228127</th>\n",
       "      <td>173317</td>\n",
       "      <td>13</td>\n",
       "      <td>CARDINAL</td>\n",
       "      <td>7</td>\n",
       "      <td>seven</td>\n",
       "      <td>True</td>\n",
       "    </tr>\n",
       "    <tr>\n",
       "      <th>2126783</th>\n",
       "      <td>165610</td>\n",
       "      <td>3</td>\n",
       "      <td>CARDINAL</td>\n",
       "      <td>24</td>\n",
       "      <td>twenty four</td>\n",
       "      <td>True</td>\n",
       "    </tr>\n",
       "  </tbody>\n",
       "</table>\n",
       "</div>"
      ],
      "text/plain": [
       "         sentence_id  token_id     class before  \\\n",
       "839190         66858         6  CARDINAL     II   \n",
       "5820730       443751        16  CARDINAL    75    \n",
       "7234891       548875         9  CARDINAL   2551   \n",
       "2228127       173317        13  CARDINAL      7   \n",
       "2126783       165610         3  CARDINAL     24   \n",
       "\n",
       "                                       after  change  \n",
       "839190                                   two    True  \n",
       "5820730                         seventy five    True  \n",
       "7234891  two thousand five hundred fifty one    True  \n",
       "2228127                                seven    True  \n",
       "2126783                          twenty four    True  "
      ]
     },
     "execution_count": 27,
     "metadata": {},
     "output_type": "execute_result"
    }
   ],
   "source": [
    "training_set[(training_set['class']=='CARDINAL') & (training_set['change']==True)].sample(5)"
   ]
  },
  {
   "cell_type": "code",
   "execution_count": 84,
   "metadata": {},
   "outputs": [
    {
     "data": {
      "text/html": [
       "<div>\n",
       "<style>\n",
       "    .dataframe thead tr:only-child th {\n",
       "        text-align: right;\n",
       "    }\n",
       "\n",
       "    .dataframe thead th {\n",
       "        text-align: left;\n",
       "    }\n",
       "\n",
       "    .dataframe tbody tr th {\n",
       "        vertical-align: top;\n",
       "    }\n",
       "</style>\n",
       "<table border=\"1\" class=\"dataframe\">\n",
       "  <thead>\n",
       "    <tr style=\"text-align: right;\">\n",
       "      <th></th>\n",
       "      <th>sentence_id</th>\n",
       "      <th>token_id</th>\n",
       "      <th>class</th>\n",
       "      <th>before</th>\n",
       "      <th>after</th>\n",
       "      <th>change</th>\n",
       "    </tr>\n",
       "  </thead>\n",
       "  <tbody>\n",
       "    <tr>\n",
       "      <th>152394</th>\n",
       "      <td>12228</td>\n",
       "      <td>0</td>\n",
       "      <td>DATE</td>\n",
       "      <td>24 August 2007</td>\n",
       "      <td>the twenty fourth of august two thousand seven</td>\n",
       "      <td>True</td>\n",
       "    </tr>\n",
       "    <tr>\n",
       "      <th>8515138</th>\n",
       "      <td>644249</td>\n",
       "      <td>18</td>\n",
       "      <td>DATE</td>\n",
       "      <td>1986</td>\n",
       "      <td>nineteen eighty six</td>\n",
       "      <td>True</td>\n",
       "    </tr>\n",
       "    <tr>\n",
       "      <th>5441241</th>\n",
       "      <td>415352</td>\n",
       "      <td>4</td>\n",
       "      <td>DATE</td>\n",
       "      <td>5 October 2011</td>\n",
       "      <td>the fifth of october twenty eleven</td>\n",
       "      <td>True</td>\n",
       "    </tr>\n",
       "    <tr>\n",
       "      <th>407161</th>\n",
       "      <td>32664</td>\n",
       "      <td>1</td>\n",
       "      <td>DATE</td>\n",
       "      <td>8 September 2011</td>\n",
       "      <td>the eighth of september twenty eleven</td>\n",
       "      <td>True</td>\n",
       "    </tr>\n",
       "    <tr>\n",
       "      <th>4369420</th>\n",
       "      <td>335089</td>\n",
       "      <td>4</td>\n",
       "      <td>DATE</td>\n",
       "      <td>2011</td>\n",
       "      <td>twenty eleven</td>\n",
       "      <td>True</td>\n",
       "    </tr>\n",
       "    <tr>\n",
       "      <th>8283863</th>\n",
       "      <td>627114</td>\n",
       "      <td>9</td>\n",
       "      <td>DATE</td>\n",
       "      <td>2007</td>\n",
       "      <td>two thousand seven</td>\n",
       "      <td>True</td>\n",
       "    </tr>\n",
       "    <tr>\n",
       "      <th>6392407</th>\n",
       "      <td>486271</td>\n",
       "      <td>4</td>\n",
       "      <td>DATE</td>\n",
       "      <td>1999</td>\n",
       "      <td>nineteen ninety nine</td>\n",
       "      <td>True</td>\n",
       "    </tr>\n",
       "    <tr>\n",
       "      <th>5061558</th>\n",
       "      <td>386978</td>\n",
       "      <td>4</td>\n",
       "      <td>DATE</td>\n",
       "      <td>April 14, 2006</td>\n",
       "      <td>april fourteenth two thousand six</td>\n",
       "      <td>True</td>\n",
       "    </tr>\n",
       "    <tr>\n",
       "      <th>2820127</th>\n",
       "      <td>218302</td>\n",
       "      <td>1</td>\n",
       "      <td>DATE</td>\n",
       "      <td>2009</td>\n",
       "      <td>two thousand nine</td>\n",
       "      <td>True</td>\n",
       "    </tr>\n",
       "    <tr>\n",
       "      <th>8459490</th>\n",
       "      <td>640157</td>\n",
       "      <td>14</td>\n",
       "      <td>DATE</td>\n",
       "      <td>1976</td>\n",
       "      <td>nineteen seventy six</td>\n",
       "      <td>True</td>\n",
       "    </tr>\n",
       "  </tbody>\n",
       "</table>\n",
       "</div>"
      ],
      "text/plain": [
       "         sentence_id  token_id class            before  \\\n",
       "152394         12228         0  DATE    24 August 2007   \n",
       "8515138       644249        18  DATE              1986   \n",
       "5441241       415352         4  DATE    5 October 2011   \n",
       "407161         32664         1  DATE  8 September 2011   \n",
       "4369420       335089         4  DATE              2011   \n",
       "8283863       627114         9  DATE              2007   \n",
       "6392407       486271         4  DATE              1999   \n",
       "5061558       386978         4  DATE    April 14, 2006   \n",
       "2820127       218302         1  DATE              2009   \n",
       "8459490       640157        14  DATE              1976   \n",
       "\n",
       "                                                  after  change  \n",
       "152394   the twenty fourth of august two thousand seven    True  \n",
       "8515138                             nineteen eighty six    True  \n",
       "5441241              the fifth of october twenty eleven    True  \n",
       "407161            the eighth of september twenty eleven    True  \n",
       "4369420                                   twenty eleven    True  \n",
       "8283863                              two thousand seven    True  \n",
       "6392407                            nineteen ninety nine    True  \n",
       "5061558               april fourteenth two thousand six    True  \n",
       "2820127                               two thousand nine    True  \n",
       "8459490                            nineteen seventy six    True  "
      ]
     },
     "execution_count": 84,
     "metadata": {},
     "output_type": "execute_result"
    }
   ],
   "source": [
    "training_set[(training_set['class']=='DATE') & (training_set['change']==True)].sample(10)\n"
   ]
  },
  {
   "cell_type": "code",
   "execution_count": 29,
   "metadata": {},
   "outputs": [
    {
     "data": {
      "text/html": [
       "<div>\n",
       "<style>\n",
       "    .dataframe thead tr:only-child th {\n",
       "        text-align: right;\n",
       "    }\n",
       "\n",
       "    .dataframe thead th {\n",
       "        text-align: left;\n",
       "    }\n",
       "\n",
       "    .dataframe tbody tr th {\n",
       "        vertical-align: top;\n",
       "    }\n",
       "</style>\n",
       "<table border=\"1\" class=\"dataframe\">\n",
       "  <thead>\n",
       "    <tr style=\"text-align: right;\">\n",
       "      <th></th>\n",
       "      <th>sentence_id</th>\n",
       "      <th>token_id</th>\n",
       "      <th>class</th>\n",
       "      <th>before</th>\n",
       "      <th>after</th>\n",
       "      <th>change</th>\n",
       "    </tr>\n",
       "  </thead>\n",
       "  <tbody>\n",
       "    <tr>\n",
       "      <th>1093430</th>\n",
       "      <td>86479</td>\n",
       "      <td>25</td>\n",
       "      <td>DECIMAL</td>\n",
       "      <td>.20901</td>\n",
       "      <td>point two o nine o one</td>\n",
       "      <td>True</td>\n",
       "    </tr>\n",
       "    <tr>\n",
       "      <th>4163422</th>\n",
       "      <td>319583</td>\n",
       "      <td>2</td>\n",
       "      <td>DECIMAL</td>\n",
       "      <td>.21</td>\n",
       "      <td>point two one</td>\n",
       "      <td>True</td>\n",
       "    </tr>\n",
       "    <tr>\n",
       "      <th>2667250</th>\n",
       "      <td>206645</td>\n",
       "      <td>7</td>\n",
       "      <td>DECIMAL</td>\n",
       "      <td>4.5</td>\n",
       "      <td>four point five</td>\n",
       "      <td>True</td>\n",
       "    </tr>\n",
       "    <tr>\n",
       "      <th>4666423</th>\n",
       "      <td>357323</td>\n",
       "      <td>4</td>\n",
       "      <td>DECIMAL</td>\n",
       "      <td>599.6</td>\n",
       "      <td>five hundred ninety nine point six</td>\n",
       "      <td>True</td>\n",
       "    </tr>\n",
       "    <tr>\n",
       "      <th>8407545</th>\n",
       "      <td>636319</td>\n",
       "      <td>12</td>\n",
       "      <td>DECIMAL</td>\n",
       "      <td>0.2</td>\n",
       "      <td>zero point two</td>\n",
       "      <td>True</td>\n",
       "    </tr>\n",
       "  </tbody>\n",
       "</table>\n",
       "</div>"
      ],
      "text/plain": [
       "         sentence_id  token_id    class  before  \\\n",
       "1093430        86479        25  DECIMAL  .20901   \n",
       "4163422       319583         2  DECIMAL     .21   \n",
       "2667250       206645         7  DECIMAL     4.5   \n",
       "4666423       357323         4  DECIMAL   599.6   \n",
       "8407545       636319        12  DECIMAL     0.2   \n",
       "\n",
       "                                      after  change  \n",
       "1093430              point two o nine o one    True  \n",
       "4163422                       point two one    True  \n",
       "2667250                     four point five    True  \n",
       "4666423  five hundred ninety nine point six    True  \n",
       "8407545                      zero point two    True  "
      ]
     },
     "execution_count": 29,
     "metadata": {},
     "output_type": "execute_result"
    }
   ],
   "source": [
    "training_set[(training_set['class']=='DECIMAL') & (training_set['change']==True)].sample(5)\n"
   ]
  },
  {
   "cell_type": "code",
   "execution_count": 30,
   "metadata": {},
   "outputs": [
    {
     "data": {
      "text/html": [
       "<div>\n",
       "<style>\n",
       "    .dataframe thead tr:only-child th {\n",
       "        text-align: right;\n",
       "    }\n",
       "\n",
       "    .dataframe thead th {\n",
       "        text-align: left;\n",
       "    }\n",
       "\n",
       "    .dataframe tbody tr th {\n",
       "        vertical-align: top;\n",
       "    }\n",
       "</style>\n",
       "<table border=\"1\" class=\"dataframe\">\n",
       "  <thead>\n",
       "    <tr style=\"text-align: right;\">\n",
       "      <th></th>\n",
       "      <th>sentence_id</th>\n",
       "      <th>token_id</th>\n",
       "      <th>class</th>\n",
       "      <th>before</th>\n",
       "      <th>after</th>\n",
       "      <th>change</th>\n",
       "    </tr>\n",
       "  </thead>\n",
       "  <tbody>\n",
       "    <tr>\n",
       "      <th>5065144</th>\n",
       "      <td>387237</td>\n",
       "      <td>3</td>\n",
       "      <td>DIGIT</td>\n",
       "      <td>1999</td>\n",
       "      <td>one nine nine nine</td>\n",
       "      <td>True</td>\n",
       "    </tr>\n",
       "    <tr>\n",
       "      <th>2441160</th>\n",
       "      <td>189603</td>\n",
       "      <td>12</td>\n",
       "      <td>DIGIT</td>\n",
       "      <td>2004</td>\n",
       "      <td>two o o four</td>\n",
       "      <td>True</td>\n",
       "    </tr>\n",
       "    <tr>\n",
       "      <th>9682913</th>\n",
       "      <td>730689</td>\n",
       "      <td>12</td>\n",
       "      <td>DIGIT</td>\n",
       "      <td>01</td>\n",
       "      <td>o one</td>\n",
       "      <td>True</td>\n",
       "    </tr>\n",
       "    <tr>\n",
       "      <th>3237677</th>\n",
       "      <td>249782</td>\n",
       "      <td>13</td>\n",
       "      <td>DIGIT</td>\n",
       "      <td>1</td>\n",
       "      <td>one</td>\n",
       "      <td>True</td>\n",
       "    </tr>\n",
       "    <tr>\n",
       "      <th>2606247</th>\n",
       "      <td>202068</td>\n",
       "      <td>4</td>\n",
       "      <td>DIGIT</td>\n",
       "      <td>173-</td>\n",
       "      <td>one seven three</td>\n",
       "      <td>True</td>\n",
       "    </tr>\n",
       "  </tbody>\n",
       "</table>\n",
       "</div>"
      ],
      "text/plain": [
       "         sentence_id  token_id  class before               after  change\n",
       "5065144       387237         3  DIGIT   1999  one nine nine nine    True\n",
       "2441160       189603        12  DIGIT   2004        two o o four    True\n",
       "9682913       730689        12  DIGIT     01               o one    True\n",
       "3237677       249782        13  DIGIT      1                 one    True\n",
       "2606247       202068         4  DIGIT   173-     one seven three    True"
      ]
     },
     "execution_count": 30,
     "metadata": {},
     "output_type": "execute_result"
    }
   ],
   "source": [
    "training_set[(training_set['class']=='DIGIT') & (training_set['change']==True)].sample(5)\n"
   ]
  },
  {
   "cell_type": "code",
   "execution_count": 74,
   "metadata": {},
   "outputs": [
    {
     "data": {
      "text/html": [
       "<div>\n",
       "<style>\n",
       "    .dataframe thead tr:only-child th {\n",
       "        text-align: right;\n",
       "    }\n",
       "\n",
       "    .dataframe thead th {\n",
       "        text-align: left;\n",
       "    }\n",
       "\n",
       "    .dataframe tbody tr th {\n",
       "        vertical-align: top;\n",
       "    }\n",
       "</style>\n",
       "<table border=\"1\" class=\"dataframe\">\n",
       "  <thead>\n",
       "    <tr style=\"text-align: right;\">\n",
       "      <th></th>\n",
       "      <th>sentence_id</th>\n",
       "      <th>token_id</th>\n",
       "      <th>class</th>\n",
       "      <th>before</th>\n",
       "      <th>after</th>\n",
       "      <th>change</th>\n",
       "    </tr>\n",
       "  </thead>\n",
       "  <tbody>\n",
       "    <tr>\n",
       "      <th>8823364</th>\n",
       "      <td>666939</td>\n",
       "      <td>15</td>\n",
       "      <td>VERBATIM</td>\n",
       "      <td>σ</td>\n",
       "      <td>sigma</td>\n",
       "      <td>True</td>\n",
       "    </tr>\n",
       "    <tr>\n",
       "      <th>3480083</th>\n",
       "      <td>268195</td>\n",
       "      <td>12</td>\n",
       "      <td>VERBATIM</td>\n",
       "      <td>Ph</td>\n",
       "      <td>p h</td>\n",
       "      <td>True</td>\n",
       "    </tr>\n",
       "    <tr>\n",
       "      <th>8385942</th>\n",
       "      <td>634734</td>\n",
       "      <td>9</td>\n",
       "      <td>VERBATIM</td>\n",
       "      <td>pg</td>\n",
       "      <td>p g</td>\n",
       "      <td>True</td>\n",
       "    </tr>\n",
       "    <tr>\n",
       "      <th>5213851</th>\n",
       "      <td>398374</td>\n",
       "      <td>3</td>\n",
       "      <td>VERBATIM</td>\n",
       "      <td>Ph</td>\n",
       "      <td>p h</td>\n",
       "      <td>True</td>\n",
       "    </tr>\n",
       "    <tr>\n",
       "      <th>5110240</th>\n",
       "      <td>390604</td>\n",
       "      <td>6</td>\n",
       "      <td>VERBATIM</td>\n",
       "      <td>&amp;</td>\n",
       "      <td>and</td>\n",
       "      <td>True</td>\n",
       "    </tr>\n",
       "    <tr>\n",
       "      <th>4152593</th>\n",
       "      <td>318774</td>\n",
       "      <td>13</td>\n",
       "      <td>VERBATIM</td>\n",
       "      <td>&amp;</td>\n",
       "      <td>and</td>\n",
       "      <td>True</td>\n",
       "    </tr>\n",
       "    <tr>\n",
       "      <th>2130447</th>\n",
       "      <td>165884</td>\n",
       "      <td>11</td>\n",
       "      <td>VERBATIM</td>\n",
       "      <td>&amp;</td>\n",
       "      <td>and</td>\n",
       "      <td>True</td>\n",
       "    </tr>\n",
       "    <tr>\n",
       "      <th>1307732</th>\n",
       "      <td>102929</td>\n",
       "      <td>9</td>\n",
       "      <td>VERBATIM</td>\n",
       "      <td>&amp;</td>\n",
       "      <td>and</td>\n",
       "      <td>True</td>\n",
       "    </tr>\n",
       "    <tr>\n",
       "      <th>7639477</th>\n",
       "      <td>579190</td>\n",
       "      <td>1</td>\n",
       "      <td>VERBATIM</td>\n",
       "      <td>#</td>\n",
       "      <td>number</td>\n",
       "      <td>True</td>\n",
       "    </tr>\n",
       "    <tr>\n",
       "      <th>2129172</th>\n",
       "      <td>165793</td>\n",
       "      <td>13</td>\n",
       "      <td>VERBATIM</td>\n",
       "      <td>Β</td>\n",
       "      <td>beta</td>\n",
       "      <td>True</td>\n",
       "    </tr>\n",
       "    <tr>\n",
       "      <th>3789756</th>\n",
       "      <td>291516</td>\n",
       "      <td>4</td>\n",
       "      <td>VERBATIM</td>\n",
       "      <td>#</td>\n",
       "      <td>number</td>\n",
       "      <td>True</td>\n",
       "    </tr>\n",
       "    <tr>\n",
       "      <th>7498955</th>\n",
       "      <td>568630</td>\n",
       "      <td>5</td>\n",
       "      <td>VERBATIM</td>\n",
       "      <td>pp</td>\n",
       "      <td>p p</td>\n",
       "      <td>True</td>\n",
       "    </tr>\n",
       "    <tr>\n",
       "      <th>5456516</th>\n",
       "      <td>416524</td>\n",
       "      <td>0</td>\n",
       "      <td>VERBATIM</td>\n",
       "      <td>Qxh</td>\n",
       "      <td>q x h</td>\n",
       "      <td>True</td>\n",
       "    </tr>\n",
       "    <tr>\n",
       "      <th>7452291</th>\n",
       "      <td>565174</td>\n",
       "      <td>15</td>\n",
       "      <td>VERBATIM</td>\n",
       "      <td>zj</td>\n",
       "      <td>z j</td>\n",
       "      <td>True</td>\n",
       "    </tr>\n",
       "    <tr>\n",
       "      <th>4443723</th>\n",
       "      <td>340620</td>\n",
       "      <td>1</td>\n",
       "      <td>VERBATIM</td>\n",
       "      <td>&amp;</td>\n",
       "      <td>and</td>\n",
       "      <td>True</td>\n",
       "    </tr>\n",
       "    <tr>\n",
       "      <th>7024481</th>\n",
       "      <td>533267</td>\n",
       "      <td>7</td>\n",
       "      <td>VERBATIM</td>\n",
       "      <td>&amp;</td>\n",
       "      <td>and</td>\n",
       "      <td>True</td>\n",
       "    </tr>\n",
       "    <tr>\n",
       "      <th>9909496</th>\n",
       "      <td>747411</td>\n",
       "      <td>1</td>\n",
       "      <td>VERBATIM</td>\n",
       "      <td>&amp;</td>\n",
       "      <td>and</td>\n",
       "      <td>True</td>\n",
       "    </tr>\n",
       "    <tr>\n",
       "      <th>1851686</th>\n",
       "      <td>144580</td>\n",
       "      <td>4</td>\n",
       "      <td>VERBATIM</td>\n",
       "      <td>Lt</td>\n",
       "      <td>l t</td>\n",
       "      <td>True</td>\n",
       "    </tr>\n",
       "    <tr>\n",
       "      <th>3327959</th>\n",
       "      <td>256652</td>\n",
       "      <td>7</td>\n",
       "      <td>VERBATIM</td>\n",
       "      <td>&amp;</td>\n",
       "      <td>and</td>\n",
       "      <td>True</td>\n",
       "    </tr>\n",
       "    <tr>\n",
       "      <th>6429967</th>\n",
       "      <td>489059</td>\n",
       "      <td>27</td>\n",
       "      <td>VERBATIM</td>\n",
       "      <td>κ</td>\n",
       "      <td>kappa</td>\n",
       "      <td>True</td>\n",
       "    </tr>\n",
       "    <tr>\n",
       "      <th>9589142</th>\n",
       "      <td>723838</td>\n",
       "      <td>10</td>\n",
       "      <td>VERBATIM</td>\n",
       "      <td>Φ</td>\n",
       "      <td>phi</td>\n",
       "      <td>True</td>\n",
       "    </tr>\n",
       "    <tr>\n",
       "      <th>6961570</th>\n",
       "      <td>528604</td>\n",
       "      <td>25</td>\n",
       "      <td>VERBATIM</td>\n",
       "      <td>pp</td>\n",
       "      <td>p p</td>\n",
       "      <td>True</td>\n",
       "    </tr>\n",
       "    <tr>\n",
       "      <th>2087875</th>\n",
       "      <td>162644</td>\n",
       "      <td>19</td>\n",
       "      <td>VERBATIM</td>\n",
       "      <td>ι</td>\n",
       "      <td>iota</td>\n",
       "      <td>True</td>\n",
       "    </tr>\n",
       "    <tr>\n",
       "      <th>7151323</th>\n",
       "      <td>542703</td>\n",
       "      <td>6</td>\n",
       "      <td>VERBATIM</td>\n",
       "      <td>&amp;</td>\n",
       "      <td>and</td>\n",
       "      <td>True</td>\n",
       "    </tr>\n",
       "    <tr>\n",
       "      <th>47751</th>\n",
       "      <td>3822</td>\n",
       "      <td>26</td>\n",
       "      <td>VERBATIM</td>\n",
       "      <td>α</td>\n",
       "      <td>alpha</td>\n",
       "      <td>True</td>\n",
       "    </tr>\n",
       "  </tbody>\n",
       "</table>\n",
       "</div>"
      ],
      "text/plain": [
       "         sentence_id  token_id     class before   after  change\n",
       "8823364       666939        15  VERBATIM      σ   sigma    True\n",
       "3480083       268195        12  VERBATIM     Ph     p h    True\n",
       "8385942       634734         9  VERBATIM     pg     p g    True\n",
       "5213851       398374         3  VERBATIM     Ph     p h    True\n",
       "5110240       390604         6  VERBATIM      &     and    True\n",
       "4152593       318774        13  VERBATIM      &     and    True\n",
       "2130447       165884        11  VERBATIM      &     and    True\n",
       "1307732       102929         9  VERBATIM      &     and    True\n",
       "7639477       579190         1  VERBATIM      #  number    True\n",
       "2129172       165793        13  VERBATIM      Β    beta    True\n",
       "3789756       291516         4  VERBATIM      #  number    True\n",
       "7498955       568630         5  VERBATIM     pp     p p    True\n",
       "5456516       416524         0  VERBATIM    Qxh   q x h    True\n",
       "7452291       565174        15  VERBATIM     zj     z j    True\n",
       "4443723       340620         1  VERBATIM      &     and    True\n",
       "7024481       533267         7  VERBATIM      &     and    True\n",
       "9909496       747411         1  VERBATIM      &     and    True\n",
       "1851686       144580         4  VERBATIM     Lt     l t    True\n",
       "3327959       256652         7  VERBATIM      &     and    True\n",
       "6429967       489059        27  VERBATIM      κ   kappa    True\n",
       "9589142       723838        10  VERBATIM      Φ     phi    True\n",
       "6961570       528604        25  VERBATIM     pp     p p    True\n",
       "2087875       162644        19  VERBATIM      ι    iota    True\n",
       "7151323       542703         6  VERBATIM      &     and    True\n",
       "47751           3822        26  VERBATIM      α   alpha    True"
      ]
     },
     "execution_count": 74,
     "metadata": {},
     "output_type": "execute_result"
    }
   ],
   "source": [
    "training_set[(training_set['class']=='VERBATIM') & (training_set['change']==True)].sample(25)\n"
   ]
  },
  {
   "cell_type": "code",
   "execution_count": 32,
   "metadata": {},
   "outputs": [
    {
     "data": {
      "text/html": [
       "<div>\n",
       "<style>\n",
       "    .dataframe thead tr:only-child th {\n",
       "        text-align: right;\n",
       "    }\n",
       "\n",
       "    .dataframe thead th {\n",
       "        text-align: left;\n",
       "    }\n",
       "\n",
       "    .dataframe tbody tr th {\n",
       "        vertical-align: top;\n",
       "    }\n",
       "</style>\n",
       "<table border=\"1\" class=\"dataframe\">\n",
       "  <thead>\n",
       "    <tr style=\"text-align: right;\">\n",
       "      <th></th>\n",
       "      <th>sentence_id</th>\n",
       "      <th>token_id</th>\n",
       "      <th>class</th>\n",
       "      <th>before</th>\n",
       "      <th>after</th>\n",
       "      <th>change</th>\n",
       "    </tr>\n",
       "  </thead>\n",
       "  <tbody>\n",
       "    <tr>\n",
       "      <th>8960938</th>\n",
       "      <td>677080</td>\n",
       "      <td>12</td>\n",
       "      <td>MEASURE</td>\n",
       "      <td>8.9%</td>\n",
       "      <td>eight point nine percent</td>\n",
       "      <td>True</td>\n",
       "    </tr>\n",
       "    <tr>\n",
       "      <th>377876</th>\n",
       "      <td>30357</td>\n",
       "      <td>10</td>\n",
       "      <td>MEASURE</td>\n",
       "      <td>1.7/km2</td>\n",
       "      <td>one point seven per square kilometers</td>\n",
       "      <td>True</td>\n",
       "    </tr>\n",
       "    <tr>\n",
       "      <th>5307924</th>\n",
       "      <td>405407</td>\n",
       "      <td>7</td>\n",
       "      <td>MEASURE</td>\n",
       "      <td>54,000 m2</td>\n",
       "      <td>fifty four thousand square meters</td>\n",
       "      <td>True</td>\n",
       "    </tr>\n",
       "    <tr>\n",
       "      <th>5115010</th>\n",
       "      <td>390976</td>\n",
       "      <td>15</td>\n",
       "      <td>MEASURE</td>\n",
       "      <td>53.2%</td>\n",
       "      <td>fifty three point two percent</td>\n",
       "      <td>True</td>\n",
       "    </tr>\n",
       "    <tr>\n",
       "      <th>7740787</th>\n",
       "      <td>586771</td>\n",
       "      <td>18</td>\n",
       "      <td>MEASURE</td>\n",
       "      <td>1 m</td>\n",
       "      <td>one meter</td>\n",
       "      <td>True</td>\n",
       "    </tr>\n",
       "  </tbody>\n",
       "</table>\n",
       "</div>"
      ],
      "text/plain": [
       "         sentence_id  token_id    class     before  \\\n",
       "8960938       677080        12  MEASURE       8.9%   \n",
       "377876         30357        10  MEASURE    1.7/km2   \n",
       "5307924       405407         7  MEASURE  54,000 m2   \n",
       "5115010       390976        15  MEASURE      53.2%   \n",
       "7740787       586771        18  MEASURE        1 m   \n",
       "\n",
       "                                         after  change  \n",
       "8960938               eight point nine percent    True  \n",
       "377876   one point seven per square kilometers    True  \n",
       "5307924      fifty four thousand square meters    True  \n",
       "5115010          fifty three point two percent    True  \n",
       "7740787                              one meter    True  "
      ]
     },
     "execution_count": 32,
     "metadata": {},
     "output_type": "execute_result"
    }
   ],
   "source": [
    "training_set[(training_set['class']=='MEASURE') & (training_set['change']==True)].sample(5)\n"
   ]
  },
  {
   "cell_type": "code",
   "execution_count": 33,
   "metadata": {},
   "outputs": [
    {
     "data": {
      "text/html": [
       "<div>\n",
       "<style>\n",
       "    .dataframe thead tr:only-child th {\n",
       "        text-align: right;\n",
       "    }\n",
       "\n",
       "    .dataframe thead th {\n",
       "        text-align: left;\n",
       "    }\n",
       "\n",
       "    .dataframe tbody tr th {\n",
       "        vertical-align: top;\n",
       "    }\n",
       "</style>\n",
       "<table border=\"1\" class=\"dataframe\">\n",
       "  <thead>\n",
       "    <tr style=\"text-align: right;\">\n",
       "      <th></th>\n",
       "      <th>sentence_id</th>\n",
       "      <th>token_id</th>\n",
       "      <th>class</th>\n",
       "      <th>before</th>\n",
       "      <th>after</th>\n",
       "      <th>change</th>\n",
       "    </tr>\n",
       "  </thead>\n",
       "  <tbody>\n",
       "    <tr>\n",
       "      <th>4139333</th>\n",
       "      <td>317787</td>\n",
       "      <td>6</td>\n",
       "      <td>ELECTRONIC</td>\n",
       "      <td>Dictionary.com</td>\n",
       "      <td>d i c t i o n a r y dot c o m</td>\n",
       "      <td>True</td>\n",
       "    </tr>\n",
       "    <tr>\n",
       "      <th>138761</th>\n",
       "      <td>11138</td>\n",
       "      <td>2</td>\n",
       "      <td>ELECTRONIC</td>\n",
       "      <td>http://www.jaabc.com/brcv14n1preview.htmlHarvard</td>\n",
       "      <td>h t t p colon slash slash w w w dot j a a b c ...</td>\n",
       "      <td>True</td>\n",
       "    </tr>\n",
       "    <tr>\n",
       "      <th>9066406</th>\n",
       "      <td>684927</td>\n",
       "      <td>13</td>\n",
       "      <td>ELECTRONIC</td>\n",
       "      <td>thestar.com</td>\n",
       "      <td>t h e s t a r dot c o m</td>\n",
       "      <td>True</td>\n",
       "    </tr>\n",
       "    <tr>\n",
       "      <th>1361436</th>\n",
       "      <td>107082</td>\n",
       "      <td>5</td>\n",
       "      <td>ELECTRONIC</td>\n",
       "      <td>Reference.com</td>\n",
       "      <td>r e f e r e n c e dot c o m</td>\n",
       "      <td>True</td>\n",
       "    </tr>\n",
       "    <tr>\n",
       "      <th>1466242</th>\n",
       "      <td>115156</td>\n",
       "      <td>7</td>\n",
       "      <td>ELECTRONIC</td>\n",
       "      <td>http://www.nps.edu/Programs/CCS/Ghor/Ghor.html</td>\n",
       "      <td>h t t p colon slash slash w w w dot n p s dot ...</td>\n",
       "      <td>True</td>\n",
       "    </tr>\n",
       "  </tbody>\n",
       "</table>\n",
       "</div>"
      ],
      "text/plain": [
       "         sentence_id  token_id       class  \\\n",
       "4139333       317787         6  ELECTRONIC   \n",
       "138761         11138         2  ELECTRONIC   \n",
       "9066406       684927        13  ELECTRONIC   \n",
       "1361436       107082         5  ELECTRONIC   \n",
       "1466242       115156         7  ELECTRONIC   \n",
       "\n",
       "                                                   before  \\\n",
       "4139333                                    Dictionary.com   \n",
       "138761   http://www.jaabc.com/brcv14n1preview.htmlHarvard   \n",
       "9066406                                       thestar.com   \n",
       "1361436                                     Reference.com   \n",
       "1466242    http://www.nps.edu/Programs/CCS/Ghor/Ghor.html   \n",
       "\n",
       "                                                     after  change  \n",
       "4139333                      d i c t i o n a r y dot c o m    True  \n",
       "138761   h t t p colon slash slash w w w dot j a a b c ...    True  \n",
       "9066406                            t h e s t a r dot c o m    True  \n",
       "1361436                        r e f e r e n c e dot c o m    True  \n",
       "1466242  h t t p colon slash slash w w w dot n p s dot ...    True  "
      ]
     },
     "execution_count": 33,
     "metadata": {},
     "output_type": "execute_result"
    }
   ],
   "source": [
    "training_set[(training_set['class']=='ELECTRONIC') & (training_set['change']==True)].sample(5)\n"
   ]
  },
  {
   "cell_type": "code",
   "execution_count": 34,
   "metadata": {},
   "outputs": [
    {
     "data": {
      "text/html": [
       "<div>\n",
       "<style>\n",
       "    .dataframe thead tr:only-child th {\n",
       "        text-align: right;\n",
       "    }\n",
       "\n",
       "    .dataframe thead th {\n",
       "        text-align: left;\n",
       "    }\n",
       "\n",
       "    .dataframe tbody tr th {\n",
       "        vertical-align: top;\n",
       "    }\n",
       "</style>\n",
       "<table border=\"1\" class=\"dataframe\">\n",
       "  <thead>\n",
       "    <tr style=\"text-align: right;\">\n",
       "      <th></th>\n",
       "      <th>sentence_id</th>\n",
       "      <th>token_id</th>\n",
       "      <th>class</th>\n",
       "      <th>before</th>\n",
       "      <th>after</th>\n",
       "      <th>change</th>\n",
       "    </tr>\n",
       "  </thead>\n",
       "  <tbody>\n",
       "    <tr>\n",
       "      <th>8913369</th>\n",
       "      <td>673545</td>\n",
       "      <td>13</td>\n",
       "      <td>ORDINAL</td>\n",
       "      <td>3rd</td>\n",
       "      <td>third</td>\n",
       "      <td>True</td>\n",
       "    </tr>\n",
       "    <tr>\n",
       "      <th>3063989</th>\n",
       "      <td>236650</td>\n",
       "      <td>4</td>\n",
       "      <td>ORDINAL</td>\n",
       "      <td>18th</td>\n",
       "      <td>eighteenth</td>\n",
       "      <td>True</td>\n",
       "    </tr>\n",
       "    <tr>\n",
       "      <th>1658825</th>\n",
       "      <td>129822</td>\n",
       "      <td>7</td>\n",
       "      <td>ORDINAL</td>\n",
       "      <td>100th</td>\n",
       "      <td>one hundredth</td>\n",
       "      <td>True</td>\n",
       "    </tr>\n",
       "    <tr>\n",
       "      <th>5878991</th>\n",
       "      <td>448149</td>\n",
       "      <td>14</td>\n",
       "      <td>ORDINAL</td>\n",
       "      <td>II</td>\n",
       "      <td>the second</td>\n",
       "      <td>True</td>\n",
       "    </tr>\n",
       "    <tr>\n",
       "      <th>3649365</th>\n",
       "      <td>280920</td>\n",
       "      <td>11</td>\n",
       "      <td>ORDINAL</td>\n",
       "      <td>II</td>\n",
       "      <td>the second</td>\n",
       "      <td>True</td>\n",
       "    </tr>\n",
       "  </tbody>\n",
       "</table>\n",
       "</div>"
      ],
      "text/plain": [
       "         sentence_id  token_id    class before          after  change\n",
       "8913369       673545        13  ORDINAL    3rd          third    True\n",
       "3063989       236650         4  ORDINAL   18th     eighteenth    True\n",
       "1658825       129822         7  ORDINAL  100th  one hundredth    True\n",
       "5878991       448149        14  ORDINAL     II     the second    True\n",
       "3649365       280920        11  ORDINAL     II     the second    True"
      ]
     },
     "execution_count": 34,
     "metadata": {},
     "output_type": "execute_result"
    }
   ],
   "source": [
    "training_set[(training_set['class']=='ORDINAL') & (training_set['change']==True)].sample(5)\n"
   ]
  },
  {
   "cell_type": "code",
   "execution_count": 35,
   "metadata": {},
   "outputs": [
    {
     "data": {
      "text/html": [
       "<div>\n",
       "<style>\n",
       "    .dataframe thead tr:only-child th {\n",
       "        text-align: right;\n",
       "    }\n",
       "\n",
       "    .dataframe thead th {\n",
       "        text-align: left;\n",
       "    }\n",
       "\n",
       "    .dataframe tbody tr th {\n",
       "        vertical-align: top;\n",
       "    }\n",
       "</style>\n",
       "<table border=\"1\" class=\"dataframe\">\n",
       "  <thead>\n",
       "    <tr style=\"text-align: right;\">\n",
       "      <th></th>\n",
       "      <th>sentence_id</th>\n",
       "      <th>token_id</th>\n",
       "      <th>class</th>\n",
       "      <th>before</th>\n",
       "      <th>after</th>\n",
       "      <th>change</th>\n",
       "    </tr>\n",
       "  </thead>\n",
       "  <tbody>\n",
       "    <tr>\n",
       "      <th>4206441</th>\n",
       "      <td>322794</td>\n",
       "      <td>13</td>\n",
       "      <td>MONEY</td>\n",
       "      <td>$450,000</td>\n",
       "      <td>four hundred fifty thousand dollars</td>\n",
       "      <td>True</td>\n",
       "    </tr>\n",
       "    <tr>\n",
       "      <th>7077724</th>\n",
       "      <td>537198</td>\n",
       "      <td>8</td>\n",
       "      <td>MONEY</td>\n",
       "      <td>$1.6 Billion</td>\n",
       "      <td>one point six billion dollars</td>\n",
       "      <td>True</td>\n",
       "    </tr>\n",
       "    <tr>\n",
       "      <th>1832813</th>\n",
       "      <td>143154</td>\n",
       "      <td>6</td>\n",
       "      <td>MONEY</td>\n",
       "      <td>$10m</td>\n",
       "      <td>ten million dollars</td>\n",
       "      <td>True</td>\n",
       "    </tr>\n",
       "    <tr>\n",
       "      <th>5170224</th>\n",
       "      <td>395085</td>\n",
       "      <td>7</td>\n",
       "      <td>MONEY</td>\n",
       "      <td>$1.8 billion</td>\n",
       "      <td>one point eight billion dollars</td>\n",
       "      <td>True</td>\n",
       "    </tr>\n",
       "    <tr>\n",
       "      <th>5386892</th>\n",
       "      <td>411273</td>\n",
       "      <td>5</td>\n",
       "      <td>MONEY</td>\n",
       "      <td>$26,000</td>\n",
       "      <td>twenty six thousand dollars</td>\n",
       "      <td>True</td>\n",
       "    </tr>\n",
       "  </tbody>\n",
       "</table>\n",
       "</div>"
      ],
      "text/plain": [
       "         sentence_id  token_id  class        before  \\\n",
       "4206441       322794        13  MONEY      $450,000   \n",
       "7077724       537198         8  MONEY  $1.6 Billion   \n",
       "1832813       143154         6  MONEY          $10m   \n",
       "5170224       395085         7  MONEY  $1.8 billion   \n",
       "5386892       411273         5  MONEY       $26,000   \n",
       "\n",
       "                                       after  change  \n",
       "4206441  four hundred fifty thousand dollars    True  \n",
       "7077724        one point six billion dollars    True  \n",
       "1832813                  ten million dollars    True  \n",
       "5170224      one point eight billion dollars    True  \n",
       "5386892          twenty six thousand dollars    True  "
      ]
     },
     "execution_count": 35,
     "metadata": {},
     "output_type": "execute_result"
    }
   ],
   "source": [
    "training_set[(training_set['class']=='MONEY') & (training_set['change']==True)].sample(5)\n"
   ]
  },
  {
   "cell_type": "code",
   "execution_count": 107,
   "metadata": {},
   "outputs": [
    {
     "data": {
      "text/html": [
       "<div>\n",
       "<style>\n",
       "    .dataframe thead tr:only-child th {\n",
       "        text-align: right;\n",
       "    }\n",
       "\n",
       "    .dataframe thead th {\n",
       "        text-align: left;\n",
       "    }\n",
       "\n",
       "    .dataframe tbody tr th {\n",
       "        vertical-align: top;\n",
       "    }\n",
       "</style>\n",
       "<table border=\"1\" class=\"dataframe\">\n",
       "  <thead>\n",
       "    <tr style=\"text-align: right;\">\n",
       "      <th></th>\n",
       "      <th>sentence_id</th>\n",
       "      <th>token_id</th>\n",
       "      <th>class</th>\n",
       "      <th>before</th>\n",
       "      <th>after</th>\n",
       "      <th>change</th>\n",
       "    </tr>\n",
       "  </thead>\n",
       "  <tbody>\n",
       "    <tr>\n",
       "      <th>7126648</th>\n",
       "      <td>540840</td>\n",
       "      <td>2</td>\n",
       "      <td>TIME</td>\n",
       "      <td>18:19</td>\n",
       "      <td>eighteen nineteen</td>\n",
       "      <td>True</td>\n",
       "    </tr>\n",
       "    <tr>\n",
       "      <th>939242</th>\n",
       "      <td>74596</td>\n",
       "      <td>12</td>\n",
       "      <td>TIME</td>\n",
       "      <td>08:30</td>\n",
       "      <td>eight thirty</td>\n",
       "      <td>True</td>\n",
       "    </tr>\n",
       "    <tr>\n",
       "      <th>6934578</th>\n",
       "      <td>526594</td>\n",
       "      <td>3</td>\n",
       "      <td>TIME</td>\n",
       "      <td>22:52</td>\n",
       "      <td>twenty two fifty two</td>\n",
       "      <td>True</td>\n",
       "    </tr>\n",
       "    <tr>\n",
       "      <th>8219153</th>\n",
       "      <td>622359</td>\n",
       "      <td>8</td>\n",
       "      <td>TIME</td>\n",
       "      <td>9pm</td>\n",
       "      <td>nine p m</td>\n",
       "      <td>True</td>\n",
       "    </tr>\n",
       "    <tr>\n",
       "      <th>1146267</th>\n",
       "      <td>90539</td>\n",
       "      <td>9</td>\n",
       "      <td>TIME</td>\n",
       "      <td>2:44</td>\n",
       "      <td>two forty four</td>\n",
       "      <td>True</td>\n",
       "    </tr>\n",
       "  </tbody>\n",
       "</table>\n",
       "</div>"
      ],
      "text/plain": [
       "         sentence_id  token_id class before                 after  change\n",
       "7126648       540840         2  TIME  18:19     eighteen nineteen    True\n",
       "939242         74596        12  TIME  08:30          eight thirty    True\n",
       "6934578       526594         3  TIME  22:52  twenty two fifty two    True\n",
       "8219153       622359         8  TIME    9pm              nine p m    True\n",
       "1146267        90539         9  TIME   2:44        two forty four    True"
      ]
     },
     "execution_count": 107,
     "metadata": {},
     "output_type": "execute_result"
    }
   ],
   "source": [
    "training_set[(training_set['class']=='TIME') & (training_set['change']==True)].sample(5)\n"
   ]
  },
  {
   "cell_type": "code",
   "execution_count": 108,
   "metadata": {},
   "outputs": [
    {
     "data": {
      "text/html": [
       "<div>\n",
       "<style>\n",
       "    .dataframe thead tr:only-child th {\n",
       "        text-align: right;\n",
       "    }\n",
       "\n",
       "    .dataframe thead th {\n",
       "        text-align: left;\n",
       "    }\n",
       "\n",
       "    .dataframe tbody tr th {\n",
       "        vertical-align: top;\n",
       "    }\n",
       "</style>\n",
       "<table border=\"1\" class=\"dataframe\">\n",
       "  <thead>\n",
       "    <tr style=\"text-align: right;\">\n",
       "      <th></th>\n",
       "      <th>sentence_id</th>\n",
       "      <th>token_id</th>\n",
       "      <th>class</th>\n",
       "      <th>before</th>\n",
       "      <th>after</th>\n",
       "      <th>change</th>\n",
       "    </tr>\n",
       "  </thead>\n",
       "  <tbody>\n",
       "    <tr>\n",
       "      <th>9822392</th>\n",
       "      <td>740977</td>\n",
       "      <td>1</td>\n",
       "      <td>ADDRESS</td>\n",
       "      <td>C1</td>\n",
       "      <td>c one</td>\n",
       "      <td>True</td>\n",
       "    </tr>\n",
       "    <tr>\n",
       "      <th>2852484</th>\n",
       "      <td>220709</td>\n",
       "      <td>0</td>\n",
       "      <td>ADDRESS</td>\n",
       "      <td>C35</td>\n",
       "      <td>c thirty five</td>\n",
       "      <td>True</td>\n",
       "    </tr>\n",
       "    <tr>\n",
       "      <th>3304040</th>\n",
       "      <td>254841</td>\n",
       "      <td>11</td>\n",
       "      <td>ADDRESS</td>\n",
       "      <td>C2</td>\n",
       "      <td>c two</td>\n",
       "      <td>True</td>\n",
       "    </tr>\n",
       "    <tr>\n",
       "      <th>7742891</th>\n",
       "      <td>586927</td>\n",
       "      <td>5</td>\n",
       "      <td>ADDRESS</td>\n",
       "      <td>A27</td>\n",
       "      <td>a twenty seven</td>\n",
       "      <td>True</td>\n",
       "    </tr>\n",
       "    <tr>\n",
       "      <th>2881181</th>\n",
       "      <td>222896</td>\n",
       "      <td>1</td>\n",
       "      <td>ADDRESS</td>\n",
       "      <td>M85</td>\n",
       "      <td>m eighty five</td>\n",
       "      <td>True</td>\n",
       "    </tr>\n",
       "  </tbody>\n",
       "</table>\n",
       "</div>"
      ],
      "text/plain": [
       "         sentence_id  token_id    class before           after  change\n",
       "9822392       740977         1  ADDRESS     C1           c one    True\n",
       "2852484       220709         0  ADDRESS   C35    c thirty five    True\n",
       "3304040       254841        11  ADDRESS     C2           c two    True\n",
       "7742891       586927         5  ADDRESS    A27  a twenty seven    True\n",
       "2881181       222896         1  ADDRESS    M85   m eighty five    True"
      ]
     },
     "execution_count": 108,
     "metadata": {},
     "output_type": "execute_result"
    }
   ],
   "source": [
    "training_set[(training_set['class']=='ADDRESS') & (training_set['change']==True)].sample(5)\n"
   ]
  },
  {
   "cell_type": "code",
   "execution_count": 37,
   "metadata": {},
   "outputs": [
    {
     "data": {
      "text/html": [
       "<div>\n",
       "<style>\n",
       "    .dataframe thead tr:only-child th {\n",
       "        text-align: right;\n",
       "    }\n",
       "\n",
       "    .dataframe thead th {\n",
       "        text-align: left;\n",
       "    }\n",
       "\n",
       "    .dataframe tbody tr th {\n",
       "        vertical-align: top;\n",
       "    }\n",
       "</style>\n",
       "<table border=\"1\" class=\"dataframe\">\n",
       "  <thead>\n",
       "    <tr style=\"text-align: right;\">\n",
       "      <th></th>\n",
       "      <th>sentence_id</th>\n",
       "      <th>token_id</th>\n",
       "      <th>class</th>\n",
       "      <th>before</th>\n",
       "      <th>after</th>\n",
       "      <th>change</th>\n",
       "    </tr>\n",
       "  </thead>\n",
       "  <tbody>\n",
       "    <tr>\n",
       "      <th>215228</th>\n",
       "      <td>17385</td>\n",
       "      <td>8</td>\n",
       "      <td>TELEPHONE</td>\n",
       "      <td>0-375-42366-4</td>\n",
       "      <td>o sil three seven five sil four two three six ...</td>\n",
       "      <td>True</td>\n",
       "    </tr>\n",
       "    <tr>\n",
       "      <th>6043038</th>\n",
       "      <td>460407</td>\n",
       "      <td>16</td>\n",
       "      <td>TELEPHONE</td>\n",
       "      <td>978-4-06-292078-0</td>\n",
       "      <td>nine seven eight sil four sil o six sil two ni...</td>\n",
       "      <td>True</td>\n",
       "    </tr>\n",
       "    <tr>\n",
       "      <th>3040192</th>\n",
       "      <td>234863</td>\n",
       "      <td>2</td>\n",
       "      <td>TELEPHONE</td>\n",
       "      <td>090423</td>\n",
       "      <td>o nine o four two three</td>\n",
       "      <td>True</td>\n",
       "    </tr>\n",
       "    <tr>\n",
       "      <th>3017223</th>\n",
       "      <td>233120</td>\n",
       "      <td>1</td>\n",
       "      <td>TELEPHONE</td>\n",
       "      <td>0-333-76147-2</td>\n",
       "      <td>o sil three three three sil seven six one four...</td>\n",
       "      <td>True</td>\n",
       "    </tr>\n",
       "    <tr>\n",
       "      <th>1556290</th>\n",
       "      <td>122054</td>\n",
       "      <td>1</td>\n",
       "      <td>TELEPHONE</td>\n",
       "      <td>978-84-613-2333-3</td>\n",
       "      <td>nine seven eight sil eight four sil six one th...</td>\n",
       "      <td>True</td>\n",
       "    </tr>\n",
       "  </tbody>\n",
       "</table>\n",
       "</div>"
      ],
      "text/plain": [
       "         sentence_id  token_id      class             before  \\\n",
       "215228         17385         8  TELEPHONE      0-375-42366-4   \n",
       "6043038       460407        16  TELEPHONE  978-4-06-292078-0   \n",
       "3040192       234863         2  TELEPHONE             090423   \n",
       "3017223       233120         1  TELEPHONE      0-333-76147-2   \n",
       "1556290       122054         1  TELEPHONE  978-84-613-2333-3   \n",
       "\n",
       "                                                     after  change  \n",
       "215228   o sil three seven five sil four two three six ...    True  \n",
       "6043038  nine seven eight sil four sil o six sil two ni...    True  \n",
       "3040192                            o nine o four two three    True  \n",
       "3017223  o sil three three three sil seven six one four...    True  \n",
       "1556290  nine seven eight sil eight four sil six one th...    True  "
      ]
     },
     "execution_count": 37,
     "metadata": {},
     "output_type": "execute_result"
    }
   ],
   "source": [
    "training_set[(training_set['class']=='TELEPHONE') & (training_set['change']==True)].sample(5)"
   ]
  },
  {
   "cell_type": "markdown",
   "metadata": {},
   "source": [
    "# Deep Learning Fun begins"
   ]
  },
  {
   "cell_type": "markdown",
   "metadata": {},
   "source": [
    "Now we have explored all the classes, now lets work on Many To One Sequence modling"
   ]
  },
  {
   "cell_type": "code",
   "execution_count": 9,
   "metadata": {
    "collapsed": true
   },
   "outputs": [],
   "source": [
    "from sklearn.model_selection import train_test_split"
   ]
  },
  {
   "cell_type": "markdown",
   "metadata": {},
   "source": [
    "### Average length of word token is 7 to 8, lets get Ascii encodings of words, (Numerical Representation)"
   ]
  },
  {
   "cell_type": "code",
   "execution_count": 17,
   "metadata": {},
   "outputs": [],
   "source": [
    "def get_encodings(data_set,length_of_encodings):\n",
    "    average_token_length = length_of_encodings\n",
    "    x_data = []\n",
    "    spacing = 0\n",
    "    for x in data_set['before'].values:\n",
    "        x_row = np.ones(average_token_length, dtype=int) * spacing\n",
    "        for xi, i in zip(list(str(x)), np.arange(average_token_length)):\n",
    "            x_row[i] = ord(xi)\n",
    "        x_data.append(x_row)\n",
    "    x_data=np.asarray(x_data)\n",
    "    return x_data"
   ]
  },
  {
   "cell_type": "code",
   "execution_count": 18,
   "metadata": {},
   "outputs": [],
   "source": [
    "import gc\n",
    "gc.collect()\n",
    "x_data=get_encodings(training_set,10)\n"
   ]
  },
  {
   "cell_type": "code",
   "execution_count": 83,
   "metadata": {},
   "outputs": [],
   "source": [
    "x_data=np.load(\"train_Encodings.npy\")"
   ]
  },
  {
   "cell_type": "code",
   "execution_count": 84,
   "metadata": {
    "collapsed": true
   },
   "outputs": [],
   "source": [
    "\"\"\"\n",
    "This function of pandas will convert each label into an integer\n",
    "\"\"\"\n",
    "def get_training_labels(data_set):\n",
    "    labels=pd.factorize(data_set['class'])\n",
    "    return labels\n"
   ]
  },
  {
   "cell_type": "code",
   "execution_count": 85,
   "metadata": {},
   "outputs": [],
   "source": [
    "train_labels=get_training_labels(training_set)\n",
    "label_names=train_labels[1]\n",
    "label_encodes=train_labels[0]"
   ]
  },
  {
   "cell_type": "code",
   "execution_count": 23,
   "metadata": {
    "collapsed": true
   },
   "outputs": [],
   "source": [
    "x_train, x_test, y_train, y_test = train_test_split(x_data,label_encodes,test_size=0.33, random_state=42)"
   ]
  },
  {
   "cell_type": "code",
   "execution_count": 87,
   "metadata": {},
   "outputs": [],
   "source": [
    "from keras.layers import Input, Dense, Embedding, merge,Convolution2D, MaxPooling2D, Dropout\n",
    "\n",
    "from keras.layers.core import Reshape, Flatten\n",
    "from keras.callbacks import ModelCheckpoint\n",
    "\n",
    "from keras.optimizers import Adam\n",
    "from keras.models import Model\n",
    "from tensorflow.contrib import keras\n",
    "import tensorflow\n",
    "from keras.models import Sequential,Input\n",
    "from keras.layers import LSTM,SimpleRNN,Activation,Flatten,BatchNormalization\n",
    "\n",
    "\n"
   ]
  },
  {
   "cell_type": "markdown",
   "metadata": {},
   "source": [
    "# CNN Model Implementation With 3 Convo2D,3 Max Pool layers"
   ]
  },
  {
   "cell_type": "code",
   "execution_count": null,
   "metadata": {
    "collapsed": true
   },
   "outputs": [],
   "source": [
    "def create_model():\n",
    "    sequence_length = x_data.shape[1]\n",
    "    vocabulary_size = 240\n",
    "    embedding_dim = 10\n",
    "    filter_sizes = [3,4,5]\n",
    "    num_filters = 512\n",
    "    drop = 0.5\n",
    "\n",
    "    nb_epoch = 2\n",
    "    batch_size = 30\n",
    "    inputs = Input(shape=(sequence_length,), dtype='int32')\n",
    "    embedding = Embedding(output_dim=embedding_dim, input_dim=vocabulary_size, input_length=sequence_length)(inputs)\n",
    "    reshape = Reshape((sequence_length,embedding_dim,1))(embedding)\n",
    "    conv_0 = Convolution2D(num_filters, filter_sizes[0], embedding_dim, border_mode='valid', \n",
    "                           init='normal', activation='relu', dim_ordering='tf')(reshape)\n",
    "    conv_1 = Convolution2D(num_filters, filter_sizes[1], embedding_dim, border_mode='valid',\n",
    "                           init='normal', activation='relu', dim_ordering='tf')(reshape)\n",
    "    conv_2 = Convolution2D(num_filters, filter_sizes[2], embedding_dim, border_mode='valid',\n",
    "                           init='normal', activation='relu', dim_ordering='tf')(reshape)\n",
    "    maxpool_0 = MaxPooling2D(pool_size=(sequence_length - filter_sizes[0] + 1, 1), strides=(1,1),\n",
    "                             border_mode='valid', dim_ordering='tf')(conv_0)\n",
    "    maxpool_1 = MaxPooling2D(pool_size=(sequence_length - filter_sizes[1] + 1, 1), strides=(1,1),\n",
    "                             border_mode='valid', dim_ordering='tf')(conv_1)\n",
    "    maxpool_2 = MaxPooling2D(pool_size=(sequence_length - filter_sizes[2] + 1, 1), strides=(1,1),\n",
    "                             border_mode='valid', dim_ordering='tf')(conv_2)\n",
    "    merged_tensor = merge([maxpool_0, maxpool_1, maxpool_2], mode='concat', concat_axis=1)\n",
    "    flatten = Flatten()(merged_tensor)\n",
    "    dropout = Dropout(drop)(flatten)\n",
    "    output = Dense(output_dim=16, activation='softmax')(dropout)\n",
    "    model = Model(input=inputs, output=output)\n",
    "    return model"
   ]
  },
  {
   "cell_type": "code",
   "execution_count": 100,
   "metadata": {},
   "outputs": [
    {
     "name": "stderr",
     "output_type": "stream",
     "text": [
      "/home/jamali-bro/anaconda2/lib/python2.7/site-packages/ipykernel_launcher.py:16: UserWarning: Update your `Conv2D` call to the Keras 2 API: `Conv2D(512, (3, 10), kernel_initializer=\"normal\", activation=\"relu\", data_format=\"channels_last\", padding=\"valid\")`\n",
      "  app.launch_new_instance()\n",
      "/home/jamali-bro/anaconda2/lib/python2.7/site-packages/ipykernel_launcher.py:17: UserWarning: Update your `Conv2D` call to the Keras 2 API: `Conv2D(512, (4, 10), kernel_initializer=\"normal\", activation=\"relu\", data_format=\"channels_last\", padding=\"valid\")`\n",
      "/home/jamali-bro/anaconda2/lib/python2.7/site-packages/ipykernel_launcher.py:18: UserWarning: Update your `Conv2D` call to the Keras 2 API: `Conv2D(512, (5, 10), kernel_initializer=\"normal\", activation=\"relu\", data_format=\"channels_last\", padding=\"valid\")`\n",
      "/home/jamali-bro/anaconda2/lib/python2.7/site-packages/ipykernel_launcher.py:20: UserWarning: Update your `MaxPooling2D` call to the Keras 2 API: `MaxPooling2D(padding=\"valid\", strides=(1, 1), data_format=\"channels_last\", pool_size=(8, 1))`\n",
      "/home/jamali-bro/anaconda2/lib/python2.7/site-packages/ipykernel_launcher.py:21: UserWarning: Update your `MaxPooling2D` call to the Keras 2 API: `MaxPooling2D(padding=\"valid\", strides=(1, 1), data_format=\"channels_last\", pool_size=(7, 1))`\n",
      "/home/jamali-bro/anaconda2/lib/python2.7/site-packages/ipykernel_launcher.py:22: UserWarning: Update your `MaxPooling2D` call to the Keras 2 API: `MaxPooling2D(padding=\"valid\", strides=(1, 1), data_format=\"channels_last\", pool_size=(6, 1))`\n",
      "/home/jamali-bro/anaconda2/lib/python2.7/site-packages/ipykernel_launcher.py:24: UserWarning: The `merge` function is deprecated and will be removed after 08/2017. Use instead layers from `keras.layers.merge`, e.g. `add`, `concatenate`, etc.\n",
      "/home/jamali-bro/anaconda2/lib/python2.7/site-packages/ipykernel_launcher.py:28: UserWarning: Update your `Dense` call to the Keras 2 API: `Dense(units=16, activation=\"softmax\")`\n",
      "/home/jamali-bro/anaconda2/lib/python2.7/site-packages/ipykernel_launcher.py:31: UserWarning: Update your `Model` call to the Keras 2 API: `Model(outputs=Tensor(\"de..., inputs=Tensor(\"in...)`\n",
      "/home/jamali-bro/anaconda2/lib/python2.7/site-packages/ipykernel_launcher.py:37: UserWarning: The `nb_epoch` argument in `fit` has been renamed `epochs`.\n"
     ]
    },
    {
     "name": "stdout",
     "output_type": "stream",
     "text": [
      "Train on 6942908 samples, validate on 2975533 samples\n",
      "Epoch 1/2\n",
      "6942900/6942908 [============================>.] - ETA: 0s - loss: 0.0315 - acc: 0.9913Epoch 00000: val_acc improved from -inf to 0.99364, saving model to weights.000-0.9936.hdf5\n",
      "6942908/6942908 [==============================] - 7565s - loss: 0.0315 - acc: 0.9913 - val_loss: 0.0210 - val_acc: 0.9936\n",
      "Epoch 2/2\n",
      "6942900/6942908 [============================>.] - ETA: 0s - loss: 0.0210 - acc: 0.9937Epoch 00001: val_acc improved from 0.99364 to 0.99425, saving model to weights.001-0.9943.hdf5\n",
      "6942908/6942908 [==============================] - 7518s - loss: 0.0210 - acc: 0.9937 - val_loss: 0.0189 - val_acc: 0.9943\n"
     ]
    },
    {
     "data": {
      "text/plain": [
       "<keras.callbacks.History at 0x7f89b7b72c90>"
      ]
     },
     "execution_count": 100,
     "metadata": {},
     "output_type": "execute_result"
    }
   ],
   "source": [
    "\"\"\"\n",
    "Training of CNN model\n",
    "\"\"\"\n",
    "model=create_model()\n",
    "checkpoint = ModelCheckpoint('weights.{epoch:03d}-{val_acc:.4f}.hdf5', monitor='val_acc', verbose=1,\n",
    "                             save_best_only=True, mode='auto')\n",
    "adam = Adam(lr=1e-4, beta_1=0.9, beta_2=0.999, epsilon=1e-08)\n",
    "\n",
    "model.compile(optimizer=adam, loss='sparse_categorical_crossentropy',\n",
    "              metrics=['accuracy'])\n",
    "model.fit(x_train, y_train, batch_size=batch_size, nb_epoch=nb_epoch, verbose=1, callbacks=[checkpoint], validation_data=(x_test, y_test))  # starts training\n",
    "\n",
    "\n"
   ]
  },
  {
   "cell_type": "code",
   "execution_count": 101,
   "metadata": {
    "collapsed": true
   },
   "outputs": [],
   "source": [
    "model.save(\"CNN_DropOut.sav\")"
   ]
  },
  {
   "cell_type": "markdown",
   "metadata": {},
   "source": [
    "# LSTM Implementation and Training"
   ]
  },
  {
   "cell_type": "code",
   "execution_count": 103,
   "metadata": {},
   "outputs": [
    {
     "name": "stdout",
     "output_type": "stream",
     "text": [
      "Epoch 1/20\n",
      "9918441/9918441 [==============================] - 1215s - loss: 0.1079 - acc: 0.9734  \n",
      "Epoch 2/20\n",
      "9918441/9918441 [==============================] - 1216s - loss: 0.0479 - acc: 0.9876  \n",
      "Epoch 3/20\n",
      "9918441/9918441 [==============================] - 1215s - loss: 0.0412 - acc: 0.9891  \n",
      "Epoch 4/20\n",
      "9918441/9918441 [==============================] - 1252s - loss: 0.0388 - acc: 0.9897  \n",
      "Epoch 5/20\n",
      "9918441/9918441 [==============================] - 1254s - loss: 0.0373 - acc: 0.9901  \n",
      "Epoch 6/20\n",
      "9918441/9918441 [==============================] - 1257s - loss: 0.0363 - acc: 0.9903  \n",
      "Epoch 7/20\n",
      "9918441/9918441 [==============================] - 1256s - loss: 0.0356 - acc: 0.9904  \n",
      "Epoch 8/20\n",
      "9918441/9918441 [==============================] - 1259s - loss: 0.0356 - acc: 0.9905  \n",
      "Epoch 9/20\n",
      "9918441/9918441 [==============================] - 1260s - loss: 0.0351 - acc: 0.9906  \n",
      "Epoch 10/20\n",
      "9918441/9918441 [==============================] - 1258s - loss: 0.0348 - acc: 0.9906  \n",
      "Epoch 11/20\n",
      "9918441/9918441 [==============================] - 1254s - loss: 0.0345 - acc: 0.9907  \n",
      "Epoch 12/20\n",
      "9918441/9918441 [==============================] - 1235s - loss: 0.0344 - acc: 0.9907  \n",
      "Epoch 13/20\n",
      "9918441/9918441 [==============================] - 1234s - loss: 0.0343 - acc: 0.9907  \n",
      "Epoch 14/20\n",
      "9918441/9918441 [==============================] - 1240s - loss: 0.0344 - acc: 0.9907  \n",
      "Epoch 15/20\n",
      "9918441/9918441 [==============================] - 1411s - loss: 0.0340 - acc: 0.9908  \n",
      "Epoch 16/20\n",
      "9918441/9918441 [==============================] - 1265s - loss: 0.0338 - acc: 0.9909  \n",
      "Epoch 17/20\n",
      "9918441/9918441 [==============================] - 1252s - loss: 0.0337 - acc: 0.9909  \n",
      "Epoch 18/20\n",
      "9918441/9918441 [==============================] - 1251s - loss: 0.0335 - acc: 0.9909  \n",
      "Epoch 19/20\n",
      "9918441/9918441 [==============================] - 1254s - loss: 0.0334 - acc: 0.9910  \n",
      "Epoch 20/20\n",
      "9918441/9918441 [==============================] - 1305s - loss: 0.0333 - acc: 0.9910  \n"
     ]
    },
    {
     "data": {
      "text/plain": [
       "<keras.callbacks.History at 0x7f89f8d2ec50>"
      ]
     },
     "execution_count": 103,
     "metadata": {},
     "output_type": "execute_result"
    }
   ],
   "source": [
    "\"\"\"\n",
    "LSTM model will predict classes of each word\n",
    "\n",
    "\"\"\"\n",
    "vocab_length=240\n",
    "embedding_output=10\n",
    "word_length=10\n",
    "model = Sequential()\n",
    "model.add(Embedding(input_dim=vocab_length,output_dim=embedding_output,input_length=word_length))\n",
    "model.add(LSTM(15))\n",
    "model.add(Dropout(0.5))\n",
    "model.add(Dense(16))\n",
    "model.add(Activation(\"softmax\"))\n",
    "model.compile(loss='sparse_categorical_crossentropy',metrics=['accuracy'], optimizer='rmsprop')\n",
    "model.fit(x_data,l[0],epochs=20,batch_size=1000)"
   ]
  },
  {
   "cell_type": "code",
   "execution_count": 111,
   "metadata": {
    "collapsed": true
   },
   "outputs": [],
   "source": [
    "model.save(\"LSTM_DropOut.sav\")"
   ]
  },
  {
   "cell_type": "code",
   "execution_count": 123,
   "metadata": {},
   "outputs": [],
   "source": [
    "\"\"\"\n",
    "Laod the pretrained CNN Model\n",
    "\"\"\"\n",
    "\n",
    "model = create_model()\n",
    "model.load_weights(\"weights.001-0.9943.hdf5\")"
   ]
  },
  {
   "cell_type": "markdown",
   "metadata": {},
   "source": [
    "# RNN Training "
   ]
  },
  {
   "cell_type": "code",
   "execution_count": 26,
   "metadata": {},
   "outputs": [
    {
     "name": "stdout",
     "output_type": "stream",
     "text": [
      "Train on 6942908 samples, validate on 2975533 samples\n",
      "Epoch 1/1\n",
      "6942908/6942908 [==============================] - 704s - loss: 0.0604 - acc: 0.9855 - val_loss: 0.0349 - val_acc: 0.9910\n"
     ]
    },
    {
     "data": {
      "text/plain": [
       "<keras.callbacks.History at 0x7fa4cae45f10>"
      ]
     },
     "execution_count": 26,
     "metadata": {},
     "output_type": "execute_result"
    }
   ],
   "source": [
    "\"RNN Model to predict classes \"\n",
    "hidden_neurons = 240\n",
    "nb_classes =16\n",
    "embedding_size =10\n",
    "model = Sequential()\n",
    "model.add(Embedding(input_dim=hidden_neurons,output_dim=embedding_size,input_length=10))\n",
    "model.add(SimpleRNN(15, return_sequences=False)) \n",
    "model.add(Dense(nb_classes))\n",
    "model.add(Activation(\"softmax\"))\n",
    "model.compile(loss='sparse_categorical_crossentropy',metrics=['accuracy'], optimizer='rmsprop')\n",
    "model.fit(x_train,y_train,epochs=10,batch_size=100)"
   ]
  },
  {
   "cell_type": "markdown",
   "metadata": {},
   "source": [
    "# Test Time"
   ]
  },
  {
   "cell_type": "code",
   "execution_count": 15,
   "metadata": {},
   "outputs": [],
   "source": [
    "test2=pd.read_csv('en_test_2.csv')\n",
    "xtest2_data=get_encodings(test2,10)\n",
    "predictions=model.predict(xtest2_data)\n",
    "indices=np.argmax(predictions,axis=1)\n",
    "tested2=[label_names[x] for x in indices]\n",
    "test2['class']=tested2"
   ]
  },
  {
   "cell_type": "code",
   "execution_count": 29,
   "metadata": {
    "collapsed": true
   },
   "outputs": [],
   "source": [
    "from writtenToSpoken import address,cardinal,date,decimal\n",
    "from writtenToSpoken import digit,electronic,fraction,letters,measure,money,telephone,time,ordinal,verbatim\n",
    "import writtenToSpoken"
   ]
  },
  {
   "cell_type": "markdown",
   "metadata": {},
   "source": [
    "# Normalization Begins"
   ]
  },
  {
   "cell_type": "code",
   "execution_count": 12,
   "metadata": {
    "collapsed": true
   },
   "outputs": [],
   "source": [
    "def plain(x):\n",
    "    try:\n",
    "        out=plain_words[x]\n",
    "        return out\n",
    "    except:\n",
    "        return x"
   ]
  },
  {
   "cell_type": "code",
   "execution_count": 19,
   "metadata": {},
   "outputs": [],
   "source": [
    "df_plain = test2[test2['class']==\"PLAIN\"]\n",
    "df_plain['after']=df_plain['before'].apply(lambda x: plain(x))"
   ]
  },
  {
   "cell_type": "code",
   "execution_count": 20,
   "metadata": {
    "collapsed": true
   },
   "outputs": [],
   "source": [
    "df_punct = test2[test2['class']==\"PUNCT\"]\n",
    "df_punct['after']=df_punct['before']"
   ]
  },
  {
   "cell_type": "code",
   "execution_count": 21,
   "metadata": {
    "collapsed": true
   },
   "outputs": [],
   "source": [
    "df_cardinal = test2[test2['class']==\"CARDINAL\"]\n",
    "output=[]\n",
    "for i in range(0,df_cardinal.shape[0]):\n",
    "    output.append(cardinal(df_cardinal.iloc[i,2]))\n",
    "df_cardinal['after']=output"
   ]
  },
  {
   "cell_type": "code",
   "execution_count": 22,
   "metadata": {},
   "outputs": [],
   "source": [
    "df_date = test2[test2['class']==\"DATE\"]\n",
    "output=[]\n",
    "for i in range(0,df_date.shape[0]):\n",
    "    output.append(date(df_date.iloc[i,2]))\n",
    "df_date['after']=output"
   ]
  },
  {
   "cell_type": "code",
   "execution_count": 23,
   "metadata": {
    "collapsed": true
   },
   "outputs": [],
   "source": [
    "df_letters = test2[test2['class']==\"LETTERS\"]\n",
    "output=[]\n",
    "for i in range(0,df_letters.shape[0]):\n",
    "    output.append(letters(df_letters.iloc[i,2]))\n",
    "df_letters['after']=output"
   ]
  },
  {
   "cell_type": "code",
   "execution_count": 24,
   "metadata": {},
   "outputs": [],
   "source": [
    "\n",
    "df_verbatim = test2[test2['class']==\"VERBATIM\"]\n",
    "output=[]\n",
    "for i in range(0,df_verbatim.shape[0]):\n",
    "    output.append(verbatim(df_verbatim.iloc[i,2]))\n",
    "df_verbatim['after']=output"
   ]
  },
  {
   "cell_type": "code",
   "execution_count": 25,
   "metadata": {
    "collapsed": true
   },
   "outputs": [],
   "source": [
    "df_money = test2[test2['class']==\"MONEY\"]\n",
    "output=[]\n",
    "for i in range(0,df_money.shape[0]):\n",
    "    output.append(money(df_money.iloc[i,2]))\n",
    "df_money['after']=output"
   ]
  },
  {
   "cell_type": "code",
   "execution_count": 26,
   "metadata": {},
   "outputs": [],
   "source": [
    "df_measure = test2[test2['class']==\"MEASURE\"]\n",
    "output=[]\n",
    "for i in range(0,df_measure.shape[0]):\n",
    "    output.append(measure(df_measure.iloc[i,2]))\n",
    "df_measure['after']=output"
   ]
  },
  {
   "cell_type": "code",
   "execution_count": 27,
   "metadata": {
    "collapsed": true
   },
   "outputs": [],
   "source": [
    "df_electronic = test2[test2['class']==\"ELECTRONIC\"]\n",
    "output=[]\n",
    "for i in range(0,df_electronic.shape[0]):\n",
    "    output.append(electronic(df_electronic.iloc[i,2]))\n",
    "df_electronic['after']=output"
   ]
  },
  {
   "cell_type": "code",
   "execution_count": 28,
   "metadata": {
    "collapsed": true
   },
   "outputs": [],
   "source": [
    "df_telephone = test2[test2['class']==\"TELEPHONE\"]\n",
    "output=[]\n",
    "for i in range(0,df_telephone.shape[0]):\n",
    "    output.append(telephone(df_telephone.iloc[i,2]))\n",
    "df_telephone['after']=output"
   ]
  },
  {
   "cell_type": "code",
   "execution_count": 29,
   "metadata": {},
   "outputs": [],
   "source": [
    "df_decimal=test2[test2['class']==\"DECIMAL\"]\n",
    "output=[]\n",
    "for i in range(0,df_decimal.shape[0]):\n",
    "    output.append(decimal(df_decimal.iloc[i,2]))\n",
    "df_decimal['after']=output"
   ]
  },
  {
   "cell_type": "code",
   "execution_count": 30,
   "metadata": {
    "collapsed": true
   },
   "outputs": [],
   "source": [
    "df_digit=test2[test2['class']==\"DIGIT\"]\n",
    "output=[]\n",
    "for i in range(0,df_digit.shape[0]):\n",
    "    output.append(digit(df_digit.iloc[i,2]))\n",
    "df_digit['after']=output"
   ]
  },
  {
   "cell_type": "code",
   "execution_count": 31,
   "metadata": {
    "collapsed": true
   },
   "outputs": [],
   "source": [
    "\n",
    "output=[]\n",
    "df_ordinal=test2[test2['class']==\"ORDINAL\"]\n",
    "for i in range(0,df_ordinal.shape[0]):\n",
    "    output.append(ordinal(df_ordinal.iloc[i,2]))\n",
    "df_ordinal['after']=output"
   ]
  },
  {
   "cell_type": "code",
   "execution_count": 32,
   "metadata": {
    "collapsed": true
   },
   "outputs": [],
   "source": [
    "output=[]\n",
    "df_fraction=test2[test2['class']==\"FRACTION\"]\n",
    "for i in range(0,df_fraction.shape[0]):\n",
    "    output.append(fraction(df_fraction.iloc[i,2]))\n",
    "df_fraction['after']=output"
   ]
  },
  {
   "cell_type": "code",
   "execution_count": 33,
   "metadata": {},
   "outputs": [],
   "source": [
    "output=[]\n",
    "df_time=test2[test2['class']==\"TIME\"]\n",
    "for i in range(0,df_time.shape[0]):\n",
    "    output.append(time(df_time.iloc[i,2]))\n",
    "df_time['after']=output"
   ]
  },
  {
   "cell_type": "code",
   "execution_count": 34,
   "metadata": {
    "collapsed": true
   },
   "outputs": [],
   "source": [
    "\n",
    "output=[]\n",
    "df_address=test2[test2['class']==\"ADDRESS\"]\n",
    "for i in range(0,df_address.shape[0]):\n",
    "    output.append(address(df_address.iloc[i,2]))\n",
    "df_address['after']=output\n"
   ]
  },
  {
   "cell_type": "code",
   "execution_count": 35,
   "metadata": {
    "collapsed": true
   },
   "outputs": [],
   "source": [
    "results=df_plain.append(df_address).append(df_cardinal).append(df_date).append(df_digit).append(df_electronic).append(df_letters).append(df_decimal).append(df_measure).append(df_money).append(df_punct)"
   ]
  },
  {
   "cell_type": "code",
   "execution_count": 36,
   "metadata": {
    "collapsed": true
   },
   "outputs": [],
   "source": [
    "results=results.append(df_ordinal).append(df_fraction).append(df_telephone).append(df_time).append(df_verbatim)"
   ]
  },
  {
   "cell_type": "code",
   "execution_count": 37,
   "metadata": {},
   "outputs": [],
   "source": [
    "results=results.sort_index()\n"
   ]
  },
  {
   "cell_type": "code",
   "execution_count": 38,
   "metadata": {
    "collapsed": true
   },
   "outputs": [],
   "source": [
    "results['id'] = test2[['sentence_id','token_id']].apply(lambda x: str(x[0])+\"_\"+str(x[1]),axis=1)"
   ]
  },
  {
   "cell_type": "code",
   "execution_count": 39,
   "metadata": {
    "collapsed": true
   },
   "outputs": [],
   "source": [
    "results=results.drop(['sentence_id','token_id','class','before'],axis=1)"
   ]
  },
  {
   "cell_type": "code",
   "execution_count": 40,
   "metadata": {
    "collapsed": true
   },
   "outputs": [],
   "source": [
    "results.to_csv(\"submission5.csv\",index=False)"
   ]
  },
  {
   "cell_type": "markdown",
   "metadata": {},
   "source": [
    "# FYP2 Starts"
   ]
  },
  {
   "cell_type": "code",
   "execution_count": 92,
   "metadata": {},
   "outputs": [],
   "source": [
    "def get_test_encodings(list_of_words):\n",
    "    max_num_vectors = 10\n",
    "    test2_data = []\n",
    "    space = 0\n",
    "    for x in list_of_words:\n",
    "        x_row = np.ones(max_num_vectors, dtype=int) * space\n",
    "        for xi, i in zip(list(str(x)), np.arange(max_num_vectors)):\n",
    "            x_row[i] = ord(xi)\n",
    "        test2_data.append(x_row)\n",
    "    test2_data=np.asarray(test2_data)\n",
    "    return test2_data"
   ]
  },
  {
   "cell_type": "code",
   "execution_count": 118,
   "metadata": {},
   "outputs": [],
   "source": [
    "def rawToTabuler(text):\n",
    "    text_split = re.findall(r\"\\w+|[^\\w\\s]\", text, re.UNICODE)\n",
    "    table = pd.DataFrame(columns=['sentence_id', 'token_id', 'before'])\n",
    "    sentence_id, token_id = 0, 0\n",
    "    for ts in range(len(text_split)):\n",
    "        table.loc[ts] = [str(sentence_id), str(token_id), text_split[ts]]\n",
    "        token_id += 1\n",
    "        if text_split[ts] == '.':\n",
    "            sentence_id += 1\n",
    "            token_id = 0\n",
    "    return table"
   ]
  },
  {
   "cell_type": "code",
   "execution_count": 119,
   "metadata": {},
   "outputs": [],
   "source": [
    "encodes=get_test_encodings()\n"
   ]
  },
  {
   "cell_type": "code",
   "execution_count": 124,
   "metadata": {
    "collapsed": true
   },
   "outputs": [],
   "source": [
    "predicted=np.argmax(model.predict(encodes),axis=1)\n"
   ]
  }
 ],
 "metadata": {
  "kernelspec": {
   "display_name": "Python 2",
   "language": "python",
   "name": "python2"
  },
  "language_info": {
   "codemirror_mode": {
    "name": "ipython",
    "version": 2
   },
   "file_extension": ".py",
   "mimetype": "text/x-python",
   "name": "python",
   "nbconvert_exporter": "python",
   "pygments_lexer": "ipython2",
   "version": "2.7.14"
  }
 },
 "nbformat": 4,
 "nbformat_minor": 2
}
